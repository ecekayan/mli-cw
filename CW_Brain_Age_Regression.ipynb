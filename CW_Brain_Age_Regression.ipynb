{
  "nbformat": 4,
  "nbformat_minor": 0,
  "metadata": {
    "kernelspec": {
      "name": "python3",
      "display_name": "Python 3"
    },
    "language_info": {
      "codemirror_mode": {
        "name": "ipython",
        "version": 3
      },
      "file_extension": ".py",
      "mimetype": "text/x-python",
      "name": "python",
      "nbconvert_exporter": "python",
      "pygments_lexer": "ipython3",
      "version": "3.6.7"
    },
    "colab": {
      "name": "CW-Brain-Age-Regression.ipynb",
      "provenance": [],
      "collapsed_sections": [
        "_Z6oNOMueAGE",
        "_q4NY946eAG-",
        "73FEceUHeAIn",
        "bCTBbhMJeAIv"
      ],
      "toc_visible": true
    },
    "accelerator": "GPU"
  },
  "cells": [
    {
      "cell_type": "markdown",
      "metadata": {
        "id": "vPW5JrAReAEm",
        "colab_type": "text"
      },
      "source": [
        "# Coursework: Age regression from brain MRI"
      ]
    },
    {
      "cell_type": "markdown",
      "metadata": {
        "id": "AjP944rweAEv",
        "colab_type": "text"
      },
      "source": [
        "Predicting the age of patient from a brain MRI scan can have diagnostic value for a number of diseases that may cause structural changes and potential damage to the brain. A discrepancy between the predicted age and the real, chronological age of a patient might indicate the presence of disease. This requires an accurate predictor of brain age which may be learned from a set of healthy reference subjects, given their brain MRI data and their actual age.\n",
        "\n",
        "The objective for the coursework is to implement different supervised learning approaches for age regression from brain MRI. We provided data from a total of 652 healthy subjects, that is split into different development sets and a held-out test set on which you will evaluate your final prediction accuracy.\n",
        "\n",
        "Each approach will require a processing pipeline with different components that you will need to implement using methods that were discussed in the lectures and tutorials. There are three dedicated parts in the Jupyter notebook for each approach which contain some detailed instructions and some helper code.\n",
        "\n",
        "You may find some useful ideas and implementations in the tutorial notebooks. Once you have implemented all approaches and obtained results from your experiments, we ask you to write a short summary report. The reports should contain a short introduction, description of each of your methods and the individual processing steps, your results with a brief discussion. The report should also include some figures and plots to support your findings.\n",
        "\n",
        "#### Read the text descriptions and the provided code cells carefully and look out for the cells marked with 'TASK' and 'ADD YOUR CODE HERE'."
      ]
    },
    {
      "cell_type": "markdown",
      "metadata": {
        "id": "2ziXy1ybeAEz",
        "colab_type": "text"
      },
      "source": [
        "### Getting started and familiarise ourselves with the data\n",
        "\n",
        "The following cells provide some helper functions to load the data, and provide some overview and visualisation of the statistics over the total population of 652 subjects. The data will be split into different subsets to be used for different parts of the coursework. There is a set of 52 subjects to be used in part A to develop an image segmentation method (47 for training, 5 for validation). We then use 500 subjects for training and cross-validation of age regression approaches in part A, B and C. A remaining set of 100 subjects is used to test the final age prediction accuracy and will be made available towards the end of the coursework."
      ]
    },
    {
      "cell_type": "markdown",
      "metadata": {
        "id": "Gmo8YBuAeAE1",
        "colab_type": "text"
      },
      "source": [
        "### Running on Colab or Azure"
      ]
    },
    {
      "cell_type": "code",
      "metadata": {
        "id": "JG3N-bUDeAE4",
        "colab_type": "code",
        "colab": {}
      },
      "source": [
        "# ! pip install SimpleITK==1.2.2 \n",
        "# ! wget https://www.doc.ic.ac.uk/~bglocker/teaching/notebooks/brainage-data.zip\n",
        "# ! unzip brainage-data.zip\n",
        "\n",
        "# data directory\n",
        "data_dir = 'data/brain_age/'"
      ],
      "execution_count": 0,
      "outputs": []
    },
    {
      "cell_type": "markdown",
      "metadata": {
        "id": "aHAOi0ipeAFC",
        "colab_type": "text"
      },
      "source": [
        "### Running on DoC lab machines"
      ]
    },
    {
      "cell_type": "code",
      "metadata": {
        "id": "Useubx9WeAFF",
        "colab_type": "code",
        "colab": {}
      },
      "source": [
        "# data directory\n",
        "# data_dir = '/vol/lab/course/416/data/brain_age/'"
      ],
      "execution_count": 0,
      "outputs": []
    },
    {
      "cell_type": "markdown",
      "metadata": {
        "id": "Qrzj00jgeAFT",
        "colab_type": "text"
      },
      "source": [
        "Let's start by loading the meta data of the entire population, that is the data containing information about the subject IDs, their age, and gender."
      ]
    },
    {
      "cell_type": "code",
      "metadata": {
        "id": "Z8azqr45eAFW",
        "colab_type": "code",
        "outputId": "d24dd754-f7d3-4b03-e8bf-9a6f2ea6a302",
        "colab": {
          "base_uri": "https://localhost:8080/",
          "height": 195
        }
      },
      "source": [
        "# Read the meta data using pandas\n",
        "import pandas as pd\n",
        "\n",
        "meta_data_all = pd.read_csv(data_dir + 'meta/meta_data_all.csv')\n",
        "meta_data_all.head() # show the first five data entries"
      ],
      "execution_count": 0,
      "outputs": [
        {
          "output_type": "execute_result",
          "data": {
            "text/html": [
              "<div>\n",
              "<style scoped>\n",
              "    .dataframe tbody tr th:only-of-type {\n",
              "        vertical-align: middle;\n",
              "    }\n",
              "\n",
              "    .dataframe tbody tr th {\n",
              "        vertical-align: top;\n",
              "    }\n",
              "\n",
              "    .dataframe thead th {\n",
              "        text-align: right;\n",
              "    }\n",
              "</style>\n",
              "<table border=\"1\" class=\"dataframe\">\n",
              "  <thead>\n",
              "    <tr style=\"text-align: right;\">\n",
              "      <th></th>\n",
              "      <th>subject_id</th>\n",
              "      <th>age</th>\n",
              "      <th>gender_code</th>\n",
              "      <th>gender_text</th>\n",
              "    </tr>\n",
              "  </thead>\n",
              "  <tbody>\n",
              "    <tr>\n",
              "      <th>0</th>\n",
              "      <td>CC110033</td>\n",
              "      <td>24</td>\n",
              "      <td>1</td>\n",
              "      <td>MALE</td>\n",
              "    </tr>\n",
              "    <tr>\n",
              "      <th>1</th>\n",
              "      <td>CC110037</td>\n",
              "      <td>18</td>\n",
              "      <td>1</td>\n",
              "      <td>MALE</td>\n",
              "    </tr>\n",
              "    <tr>\n",
              "      <th>2</th>\n",
              "      <td>CC110045</td>\n",
              "      <td>24</td>\n",
              "      <td>2</td>\n",
              "      <td>FEMALE</td>\n",
              "    </tr>\n",
              "    <tr>\n",
              "      <th>3</th>\n",
              "      <td>CC110056</td>\n",
              "      <td>22</td>\n",
              "      <td>2</td>\n",
              "      <td>FEMALE</td>\n",
              "    </tr>\n",
              "    <tr>\n",
              "      <th>4</th>\n",
              "      <td>CC110062</td>\n",
              "      <td>20</td>\n",
              "      <td>1</td>\n",
              "      <td>MALE</td>\n",
              "    </tr>\n",
              "  </tbody>\n",
              "</table>\n",
              "</div>"
            ],
            "text/plain": [
              "  subject_id  age  gender_code gender_text\n",
              "0   CC110033   24            1        MALE\n",
              "1   CC110037   18            1        MALE\n",
              "2   CC110045   24            2      FEMALE\n",
              "3   CC110056   22            2      FEMALE\n",
              "4   CC110062   20            1        MALE"
            ]
          },
          "metadata": {
            "tags": []
          },
          "execution_count": 7
        }
      ]
    },
    {
      "cell_type": "markdown",
      "metadata": {
        "id": "KLAFP2zGeAFg",
        "colab_type": "text"
      },
      "source": [
        "Let's have a look at some population statistics."
      ]
    },
    {
      "cell_type": "code",
      "metadata": {
        "scrolled": false,
        "id": "RgpHORAYeAFi",
        "colab_type": "code",
        "outputId": "d32088e9-59c1-4488-9a2b-2a5977a11935",
        "colab": {
          "base_uri": "https://localhost:8080/",
          "height": 924
        }
      },
      "source": [
        "%matplotlib inline\n",
        "\n",
        "import matplotlib.pyplot as plt\n",
        "import seaborn as sns\n",
        "\n",
        "meta_data = meta_data_all\n",
        "\n",
        "sns.catplot(x=\"gender_text\", data=meta_data, kind=\"count\")\n",
        "plt.title('Gender distribution')\n",
        "plt.xlabel('Gender')\n",
        "plt.show()\n",
        "\n",
        "sns.distplot(meta_data['age'], bins=[10,20,30,40,50,60,70,80,90])\n",
        "plt.title('Age distribution')\n",
        "plt.xlabel('Age')\n",
        "plt.show()\n",
        "\n",
        "plt.scatter(range(len(meta_data['age'])),meta_data['age'], marker='.')\n",
        "plt.grid()\n",
        "plt.xlabel('Subject')\n",
        "plt.ylabel('Age')\n",
        "plt.show()\n"
      ],
      "execution_count": 0,
      "outputs": [
        {
          "output_type": "display_data",
          "data": {
            "image/png": "[encoded data removed]",
            "text/plain": [
              "<Figure size 360x360 with 1 Axes>"
            ]
          },
          "metadata": {
            "tags": []
          }
        },
        {
          "output_type": "display_data",
          "data": {
            "image/png": "[encoded data removed]",
            "text/plain": [
              "<Figure size 432x288 with 1 Axes>"
            ]
          },
          "metadata": {
            "tags": []
          }
        },
        {
          "output_type": "display_data",
          "data": {
            "image/png": "[encoded data removed]",
            "text/plain": [
              "<Figure size 432x288 with 1 Axes>"
            ]
          },
          "metadata": {
            "tags": []
          }
        }
      ]
    },
    {
      "cell_type": "markdown",
      "metadata": {
        "id": "HoEcl2tjeAFr",
        "colab_type": "text"
      },
      "source": [
        "### Set up a simple medical image viewer and import SimpleITK"
      ]
    },
    {
      "cell_type": "code",
      "metadata": {
        "id": "j1c9nn2SeAFu",
        "colab_type": "code",
        "colab": {}
      },
      "source": [
        "import numpy as np\n",
        "import SimpleITK as sitk\n",
        "import matplotlib.pyplot as plt\n",
        "\n",
        "from ipywidgets import interact, fixed\n",
        "from IPython.display import display\n",
        "\n",
        "# Calculate parameters low and high from window and level\n",
        "def wl_to_lh(window, level):\n",
        "    low = level - window/2\n",
        "    high = level + window/2\n",
        "    return low,high\n",
        "\n",
        "def display_image(img, x=None, y=None, z=None, window=None, level=None, colormap='gray', crosshair=False):\n",
        "    # Convert SimpleITK image to NumPy array\n",
        "    img_array = sitk.GetArrayFromImage(img)\n",
        "    \n",
        "    # Get image dimensions in millimetres\n",
        "    size = img.GetSize()\n",
        "    spacing = img.GetSpacing()\n",
        "    width  = size[0] * spacing[0]\n",
        "    height = size[1] * spacing[1]\n",
        "    depth  = size[2] * spacing[2]\n",
        "    \n",
        "    if x is None:\n",
        "        x = np.floor(size[0]/2).astype(int)\n",
        "    if y is None:\n",
        "        y = np.floor(size[1]/2).astype(int)\n",
        "    if z is None:\n",
        "        z = np.floor(size[2]/2).astype(int)\n",
        "    \n",
        "    if window is None:\n",
        "        window = np.max(img_array) - np.min(img_array)\n",
        "    \n",
        "    if level is None:\n",
        "        level = window / 2 + np.min(img_array)\n",
        "    \n",
        "    low,high = wl_to_lh(window,level)\n",
        "\n",
        "    # Display the orthogonal slices\n",
        "    fig, (ax1, ax2, ax3) = plt.subplots(1, 3, figsize=(10, 4))\n",
        "\n",
        "    ax1.imshow(img_array[z,:,:], cmap=colormap, clim=(low, high), extent=(0, width, height, 0))\n",
        "    ax2.imshow(img_array[:,y,:], origin='lower', cmap=colormap, clim=(low, high), extent=(0, width,  0, depth))\n",
        "    ax3.imshow(img_array[:,:,x], origin='lower', cmap=colormap, clim=(low, high), extent=(0, height, 0, depth))\n",
        "\n",
        "    # Additionally display crosshairs\n",
        "    if crosshair:\n",
        "        ax1.axhline(y * spacing[1], lw=1)\n",
        "        ax1.axvline(x * spacing[0], lw=1)\n",
        "        ax2.axhline(z * spacing[2], lw=1)\n",
        "        ax2.axvline(x * spacing[0], lw=1)\n",
        "        ax3.axhline(z * spacing[2], lw=1)\n",
        "        ax3.axvline(y * spacing[1], lw=1)\n",
        "\n",
        "    plt.show()\n",
        "    \n",
        "def interactive_view(img):\n",
        "    size = img.GetSize() \n",
        "    img_array = sitk.GetArrayFromImage(img)\n",
        "    interact(display_image,img=fixed(img),\n",
        "             x=(0, size[0] - 1),\n",
        "             y=(0, size[1] - 1),\n",
        "             z=(0, size[2] - 1),\n",
        "             window=(0,np.max(img_array) - np.min(img_array)),\n",
        "             level=(np.min(img_array),np.max(img_array)));"
      ],
      "execution_count": 0,
      "outputs": []
    },
    {
      "cell_type": "markdown",
      "metadata": {
        "id": "_GH7szrReAF2",
        "colab_type": "text"
      },
      "source": [
        "### Imaging data\n",
        "\n",
        "Let's check out the imaging data that is available for each subject. This cell also shows how to retrieve data given a particular subject ID from the meta data."
      ]
    },
    {
      "cell_type": "code",
      "metadata": {
        "id": "MHrobf1beAF5",
        "colab_type": "code",
        "outputId": "42fe1742-ba7c-4a8b-992c-1486ba2e2f0d",
        "colab": {
          "base_uri": "https://localhost:8080/",
          "height": 792
        }
      },
      "source": [
        "# Subject with index 0\n",
        "ID = meta_data['subject_id'][0]\n",
        "age = meta_data['age'][0]\n",
        "\n",
        "# Image\n",
        "image_filename = data_dir + 'images/sub-' + ID + '_T1w_unbiased.nii.gz'\n",
        "img = sitk.ReadImage(image_filename)\n",
        "\n",
        "# Mask\n",
        "mask_filename = data_dir + 'masks/sub-' + ID + '_T1w_brain_mask.nii.gz'\n",
        "msk = sitk.ReadImage(mask_filename)\n",
        "\n",
        "# Grey matter map\n",
        "gm_filename = data_dir + 'greymatter/wc1sub-' + ID + '_T1w.nii.gz'\n",
        "gm = sitk.ReadImage(gm_filename)\n",
        "\n",
        "print('Imaging data of subject ' + ID + ' with age ' + str(age))\n",
        "\n",
        "print('\\nMR Image (used in part A)')\n",
        "display_image(img, window=400, level=200)\n",
        "\n",
        "print('Brain mask (used in part A)')\n",
        "display_image(msk)\n",
        "\n",
        "print('Spatially normalised grey matter maps (used in part B and C)')\n",
        "display_image(gm)"
      ],
      "execution_count": 0,
      "outputs": [
        {
          "output_type": "stream",
          "text": [
            "Imaging data of subject CC110033 with age 24\n",
            "\n",
            "MR Image (used in part A)\n"
          ],
          "name": "stdout"
        },
        {
          "output_type": "display_data",
          "data": {
            "image/png": "[encoded data removed]",
            "text/plain": [
              "<Figure size 720x288 with 3 Axes>"
            ]
          },
          "metadata": {
            "tags": []
          }
        },
        {
          "output_type": "stream",
          "text": [
            "Brain mask (used in part A)\n"
          ],
          "name": "stdout"
        },
        {
          "output_type": "display_data",
          "data": {
            "image/png": "[encoded data removed]",
            "text/plain": [
              "<Figure size 720x288 with 3 Axes>"
            ]
          },
          "metadata": {
            "tags": []
          }
        },
        {
          "output_type": "stream",
          "text": [
            "Spatially normalised grey matter maps (used in part B and C)\n"
          ],
          "name": "stdout"
        },
        {
          "output_type": "display_data",
          "data": {
            "image/png": "[encoded data removed]",
            "text/plain": [
              "<Figure size 720x288 with 3 Axes>"
            ]
          },
          "metadata": {
            "tags": []
          }
        }
      ]
    },
    {
      "cell_type": "markdown",
      "metadata": {
        "id": "_Z6oNOMueAGE",
        "colab_type": "text"
      },
      "source": [
        "## Part A: Volume-based regression using brain structure segmentation\n",
        "\n",
        "The first approach aims to regress the age of a subject using the volumes of brain tissues as features. The brain structures include grey matter (GM), white matter (WM), and cerebrospinal fluid (CSF). It is known that with increasing age the ventricles enlarge (filled with CSF), while it is assumed that grey and white matter volume may decrease over time. However, as overall brain volume varies across individuals, taking the absolute volumes of tissues might not be predictive. Instead, relative volumes need to be computed as the ratios between each tissue volume and overall brain volume. To this end, a four-class (GM, WM, CSF, and background) brain segmentation needs to be implemented which will be trained using a total of 52 subjects (47 for training, 5 for validation). The segmentation method is then applied to the remaining 600 brain scans which will be used to train and test the age regression. Brain masks are provided which have been generated with a state-of-the-art neuroimaging brain extraction tool.\n",
        "\n",
        "Different regression techniques should be explored, and it might be beneficial to investigate what the best set of features is for this task. Are all volume features equally useful, or is it even better to combine some of them and create new features. How does a simple linear regression perform compared to a model with higher order polynomials? Do you need regularisation? How about other regression methods such as regression trees, SVMs or neural networks? The accuracy of different methods should be evaluated using two-fold cross-validation on the set of 500 subjects, and average age prediction accuracy should be compared and reported appropriately. The final prediction accuracy will be evaluated on a hold-out set of 100 subjects.\n",
        "\n",
        "*Note:* For part A, only the MR images and the brain masks should be used from the imaging data. The spatially normalised grey matter maps are used in part B and C only. If you struggle with task A-1, you can continue with A-2 using the provided reference segmentations in subfolder `segs_refs`."
      ]
    },
    {
      "cell_type": "markdown",
      "metadata": {
        "id": "PxkUa-aleAGI",
        "colab_type": "text"
      },
      "source": [
        "### TASK A-1: Brain tissue segmentation\n",
        "\n",
        "Implement a CNN model for brain tissue segmentation which can provide segmentations of GM, WM, and CSF. For this task (and only for this task), we provide a subset of 52 subjects which are split into 47 images for training and 5 for validation. The template code below has the data handling and main training routines already implemented, so you can focus on implementing a suitable CNN model. A simple model is provided, but this won't perform very well.\n",
        "\n",
        "Once your model is trained and you are happy with the results on the validation data you should apply it to the 500 subjects later used for training the age regressor. We provide reference segmentations in a subfolder `segs_refs` for all subjects. Calculate Dice similarity coefficients per tissue when comparing your predicted segmentations to the reference segmentations. Summarise the statistics of the 500 Dice scores for each tissue class in [box-and-whisker-plots](https://matplotlib.org/api/_as_gen/matplotlib.pyplot.boxplot.html).\n",
        "\n",
        "*Note:* Implementing a full-fledged machine learning pipeline with training and testing procedures in Jupyter notebooks is a bit cumbersome and a pain to debug. Also, running bigger training tasks can be unstable. The code below should work as is on your VM. However, if you want to get a bit more serious about implementing an advanced CNN approach for image segmentation, you may want to move code into separate Python scripts and run these from the terminal."
      ]
    },
    {
      "cell_type": "markdown",
      "metadata": {
        "id": "ty3p721oeAGL",
        "colab_type": "text"
      },
      "source": [
        "#### Imports"
      ]
    },
    {
      "cell_type": "code",
      "metadata": {
        "id": "nw2RGB8leAGP",
        "colab_type": "code",
        "colab": {}
      },
      "source": [
        "import os\n",
        "import torch\n",
        "import torch.nn as nn\n",
        "import torch.nn.functional as F\n",
        "from torch.utils.data import Dataset, DataLoader\n",
        "from tqdm import tqdm\n",
        "import pandas as pd"
      ],
      "execution_count": 0,
      "outputs": []
    },
    {
      "cell_type": "markdown",
      "metadata": {
        "id": "IJlEO_jneAGX",
        "colab_type": "text"
      },
      "source": [
        "#### Data Helpers"
      ]
    },
    {
      "cell_type": "code",
      "metadata": {
        "id": "cKcC9cH3eAGZ",
        "colab_type": "code",
        "colab": {}
      },
      "source": [
        "def zero_mean_unit_var(image, mask):\n",
        "    \"\"\"Normalizes an image to zero mean and unit variance.\"\"\"\n",
        "\n",
        "    img_array = sitk.GetArrayFromImage(image)\n",
        "    img_array = img_array.astype(np.float32)\n",
        "\n",
        "    msk_array = sitk.GetArrayFromImage(mask)\n",
        "\n",
        "    mean = np.mean(img_array[msk_array>0])\n",
        "    std = np.std(img_array[msk_array>0])\n",
        "\n",
        "    if std > 0:\n",
        "        img_array = (img_array - mean) / std\n",
        "        img_array[msk_array==0] = 0\n",
        "\n",
        "    image_normalised = sitk.GetImageFromArray(img_array)\n",
        "    image_normalised.CopyInformation(image)\n",
        "\n",
        "    return image_normalised\n",
        "\n",
        "\n",
        "def resample_image(image, out_spacing=(1.0, 1.0, 1.0), out_size=None, is_label=False, pad_value=0):\n",
        "    \"\"\"Resamples an image to given element spacing and output size.\"\"\"\n",
        "\n",
        "    original_spacing = np.array(image.GetSpacing())\n",
        "    original_size = np.array(image.GetSize())\n",
        "\n",
        "    if out_size is None:\n",
        "        out_size = np.round(np.array(original_size * original_spacing / np.array(out_spacing))).astype(int)\n",
        "    else:\n",
        "        out_size = np.array(out_size)\n",
        "\n",
        "    original_direction = np.array(image.GetDirection()).reshape(len(original_spacing),-1)\n",
        "    original_center = (np.array(original_size, dtype=float) - 1.0) / 2.0 * original_spacing\n",
        "    out_center = (np.array(out_size, dtype=float) - 1.0) / 2.0 * np.array(out_spacing)\n",
        "\n",
        "    original_center = np.matmul(original_direction, original_center)\n",
        "    out_center = np.matmul(original_direction, out_center)\n",
        "    out_origin = np.array(image.GetOrigin()) + (original_center - out_center)\n",
        "\n",
        "    resample = sitk.ResampleImageFilter()\n",
        "    resample.SetOutputSpacing(out_spacing)\n",
        "    resample.SetSize(out_size.tolist())\n",
        "    resample.SetOutputDirection(image.GetDirection())\n",
        "    resample.SetOutputOrigin(out_origin.tolist())\n",
        "    resample.SetTransform(sitk.Transform())\n",
        "    resample.SetDefaultPixelValue(pad_value)\n",
        "\n",
        "    if is_label:\n",
        "        resample.SetInterpolator(sitk.sitkNearestNeighbor)\n",
        "    else:\n",
        "        resample.SetInterpolator(sitk.sitkBSpline)\n",
        "\n",
        "    return resample.Execute(image)\n",
        "\n",
        "\n",
        "class ImageSegmentationDataset(Dataset):\n",
        "    \"\"\"Dataset for image segmentation.\"\"\"\n",
        "\n",
        "    def __init__(self, file_list_img, file_list_seg, file_list_msk, img_spacing, img_size):\n",
        "        self.samples = []\n",
        "        self.img_names = []\n",
        "        self.seg_names = []\n",
        "        for idx, _ in enumerate(tqdm(range(len(file_list_img)), desc='Loading Data')):\n",
        "            img_path = file_list_img[idx]\n",
        "            seg_path = file_list_seg[idx]\n",
        "            msk_path = file_list_msk[idx]\n",
        "\n",
        "            img = sitk.ReadImage(img_path, sitk.sitkFloat32)\n",
        "\n",
        "            seg = sitk.ReadImage(seg_path, sitk.sitkInt64)\n",
        "\n",
        "            msk = sitk.ReadImage(msk_path, sitk.sitkUInt8)\n",
        "\n",
        "            #pre=processing\n",
        "            img = zero_mean_unit_var(img, msk)\n",
        "            img = resample_image(img, img_spacing, img_size, is_label=False)\n",
        "            seg = resample_image(seg, img_spacing, img_size, is_label=True)\n",
        "            msk = resample_image(msk, img_spacing, img_size, is_label=True)\n",
        "\n",
        "            sample = {'img': img, 'seg': seg, 'msk': msk}\n",
        "\n",
        "            self.samples.append(sample)\n",
        "            self.img_names.append(os.path.basename(img_path))\n",
        "            self.seg_names.append(os.path.basename(seg_path))\n",
        "\n",
        "    def __len__(self):\n",
        "        return len(self.samples)\n",
        "\n",
        "    def __getitem__(self, item):\n",
        "        sample = self.samples[item]\n",
        "\n",
        "        image = torch.from_numpy(sitk.GetArrayFromImage(sample['img'])).unsqueeze(0)\n",
        "        seg = torch.from_numpy(sitk.GetArrayFromImage(sample['seg'])).unsqueeze(0)\n",
        "        msk = torch.from_numpy(sitk.GetArrayFromImage(sample['msk'])).unsqueeze(0)\n",
        "\n",
        "        return {'img': image, 'seg': seg, 'msk': msk}\n",
        "\n",
        "    def get_sample(self, item):\n",
        "        return self.samples[item]\n",
        "\n",
        "    def get_img_name(self, item):\n",
        "        return self.img_names[item]\n",
        "\n",
        "    def get_seg_name(self, item):\n",
        "        return self.seg_names[item]\n"
      ],
      "execution_count": 0,
      "outputs": []
    },
    {
      "cell_type": "markdown",
      "metadata": {
        "id": "mEMvILf_eAGg",
        "colab_type": "text"
      },
      "source": [
        "#### Check that the GPU is up and running"
      ]
    },
    {
      "cell_type": "code",
      "metadata": {
        "id": "c5culJ4TeAGi",
        "colab_type": "code",
        "outputId": "0bc6ad4e-a905-4e9f-9e7f-82ff051670de",
        "colab": {
          "base_uri": "https://localhost:8080/",
          "height": 50
        }
      },
      "source": [
        "cuda_dev = '0' #GPU device 0 (can be changed if multiple GPUs are available)\n",
        "\n",
        "use_cuda = torch.cuda.is_available()\n",
        "device = torch.device(\"cuda:\" + cuda_dev if use_cuda else \"cpu\")\n",
        "\n",
        "print('Device: ' + str(device))\n",
        "if use_cuda:\n",
        "    print('GPU: ' + str(torch.cuda.get_device_name(int(cuda_dev))))        "
      ],
      "execution_count": 0,
      "outputs": [
        {
          "output_type": "stream",
          "text": [
            "Device: cuda:0\n",
            "GPU: Tesla T4\n"
          ],
          "name": "stdout"
        }
      ]
    },
    {
      "cell_type": "markdown",
      "metadata": {
        "id": "6e0vmE46eAGn",
        "colab_type": "text"
      },
      "source": [
        "#### Config and hyper-parameters\n",
        "\n",
        "Here we set some default hyper-parameters and a starting configuration for the image resolution and others.\n",
        "\n",
        "**TASK: This needs to be revisited to optimise these values. In particular, you may want to run your final model on higher resolution images.**"
      ]
    },
    {
      "cell_type": "code",
      "metadata": {
        "id": "G0gAVTnWeAGo",
        "colab_type": "code",
        "colab": {}
      },
      "source": [
        "rnd_seed = 42 #fixed random seed\n",
        "\n",
        "img_size = [88, 88, 88]\n",
        "img_spacing = [3, 3, 3]\n",
        "\n",
        "# Hyperparameters to be optimised\n",
        "epochs = [30, 60]\n",
        "learning_rates = [0.001, 0.005]\n",
        "batch_sizes = [2, 4]\n",
        "\n",
        "val_interval = 10\n",
        "\n",
        "num_classes = 4\n",
        "\n",
        "out_dir = './output'\n",
        "\n",
        "# Create output directory\n",
        "if not os.path.exists(out_dir):\n",
        "    os.makedirs(out_dir)"
      ],
      "execution_count": 0,
      "outputs": []
    },
    {
      "cell_type": "markdown",
      "metadata": {
        "id": "iY0cO3IteAGu",
        "colab_type": "text"
      },
      "source": [
        "#### Loading and pre-processing of training and validation data"
      ]
    },
    {
      "cell_type": "code",
      "metadata": {
        "id": "mbt_WQcoeAGw",
        "colab_type": "code",
        "colab": {}
      },
      "source": [
        "meta_data_seg_train = pd.read_csv(data_dir + 'meta/meta_data_seg_train.csv')\n",
        "ids_seg_train = list(meta_data_seg_train['subject_id'])\n",
        "files_seg_img_train = [data_dir + 'images/sub-' + f + '_T1w_unbiased.nii.gz' for f in ids_seg_train]\n",
        "files_seg_seg_train = [data_dir + 'segs_refs/sub-' + f + '_T1w_seg.nii.gz' for f in ids_seg_train]\n",
        "files_seg_msk_train = [data_dir + 'masks/sub-' + f + '_T1w_brain_mask.nii.gz' for f in ids_seg_train]\n",
        "\n",
        "meta_data_seg_val = pd.read_csv(data_dir + 'meta/meta_data_seg_val.csv')\n",
        "ids_seg_val = list(meta_data_seg_val['subject_id'])\n",
        "files_seg_img_val = [data_dir + 'images/sub-' + f + '_T1w_unbiased.nii.gz' for f in ids_seg_val]\n",
        "files_seg_seg_val = [data_dir + 'segs_refs/sub-' + f + '_T1w_seg.nii.gz' for f in ids_seg_val]\n",
        "files_seg_msk_val = [data_dir + 'masks/sub-' + f + '_T1w_brain_mask.nii.gz' for f in ids_seg_val]"
      ],
      "execution_count": 0,
      "outputs": []
    },
    {
      "cell_type": "markdown",
      "metadata": {
        "id": "hvY2O3BweAG4",
        "colab_type": "text"
      },
      "source": [
        "We apply some standard pre-processing on the data such as intensity normalization (zero mean unit variance) and downsampling according to the configuration above.\n",
        "\n",
        "**You may want to use initially the validation data with 5 subjects for training which is more efficient when debugging your training routine and model implementation. Make sure to later train your final model on the actual training data.**"
      ]
    },
    {
      "cell_type": "code",
      "metadata": {
        "id": "NiWQXd7AeAG6",
        "colab_type": "code",
        "outputId": "5b4df3da-277b-40f9-a649-f688ffd85d36",
        "colab": {
          "base_uri": "https://localhost:8080/",
          "height": 50
        }
      },
      "source": [
        "# LOAD ACTUAL TRAINING DATA\n",
        "dataset_train = ImageSegmentationDataset(files_seg_img_train, files_seg_seg_train, files_seg_msk_train, img_spacing, img_size)\n",
        "# LOAD VALIDATION DATA AS TRAINING FOR QUICK DEBUGGING\n",
        "# dataset_train = ImageSegmentationDataset(files_seg_img_val, files_seg_seg_val, files_seg_msk_val, img_spacing, img_size)\n",
        "dataloader_train = torch.utils.data.DataLoader(dataset_train, batch_size=batch_size, shuffle=True)\n",
        "\n",
        "dataset_val = ImageSegmentationDataset(files_seg_img_val, files_seg_seg_val, files_seg_msk_val, img_spacing, img_size)\n",
        "dataloader_val = torch.utils.data.DataLoader(dataset_val, batch_size=1, shuffle=False)"
      ],
      "execution_count": 0,
      "outputs": [
        {
          "output_type": "stream",
          "text": [
            "Loading Data: 100%|██████████| 47/47 [00:09<00:00,  4.98it/s]\n",
            "Loading Data: 100%|██████████| 5/5 [00:01<00:00,  4.95it/s]\n"
          ],
          "name": "stderr"
        }
      ]
    },
    {
      "cell_type": "markdown",
      "metadata": {
        "id": "_q4NY946eAG-",
        "colab_type": "text"
      },
      "source": [
        "#### Visualise training example\n",
        "\n",
        "Just to check how a training image looks like after pre-processing."
      ]
    },
    {
      "cell_type": "code",
      "metadata": {
        "id": "aeYpN2z-eAHB",
        "colab_type": "code",
        "outputId": "d5849611-faed-4805-b246-4346d19ed5ed",
        "colab": {
          "base_uri": "https://localhost:8080/",
          "height": 665
        }
      },
      "source": [
        "sample = dataset_train.get_sample(0)\n",
        "img_name = dataset_train.get_img_name(0)\n",
        "seg_name = dataset_train.get_seg_name(0)\n",
        "print('Image: ' + img_name)\n",
        "display_image(sample['img'], window=5, level=0)\n",
        "print('Segmentation')\n",
        "display_image(sitk.LabelToRGB(sample['seg']))\n",
        "print('Mask')\n",
        "display_image(sample['msk'])"
      ],
      "execution_count": 0,
      "outputs": [
        {
          "output_type": "stream",
          "text": [
            "Image: sub-CC520480_T1w_unbiased.nii.gz\n"
          ],
          "name": "stdout"
        },
        {
          "output_type": "display_data",
          "data": {
            "image/png": "[encoded data removed]",
            "text/plain": [
              "<Figure size 720x288 with 3 Axes>"
            ]
          },
          "metadata": {
            "tags": []
          }
        },
        {
          "output_type": "stream",
          "text": [
            "Segmentation\n"
          ],
          "name": "stdout"
        },
        {
          "output_type": "display_data",
          "data": {
            "image/png": "[encoded data removed]",
            "text/plain": [
              "<Figure size 720x288 with 3 Axes>"
            ]
          },
          "metadata": {
            "tags": []
          }
        },
        {
          "output_type": "stream",
          "text": [
            "Mask\n"
          ],
          "name": "stdout"
        },
        {
          "output_type": "display_data",
          "data": {
            "image/png": "[encoded data removed]",
            "text/plain": [
              "<Figure size 720x288 with 3 Axes>"
            ]
          },
          "metadata": {
            "tags": []
          }
        }
      ]
    },
    {
      "cell_type": "markdown",
      "metadata": {
        "id": "MaXTevrgeAHH",
        "colab_type": "text"
      },
      "source": [
        "#### The Model\n",
        "\n",
        "**TASK:** This is the **key part of task A-1** where you have to design a suitable CNN model for brain segmentation. The simple model provided below works to some degree (it let's you run through the upcoming cells), but it will not perform very well. Use what you learned in the lectures to come up with a good architecture. Start with a simple, shallow model and only increase complexity (e.g., number of layers) if needed."
      ]
    },
    {
      "cell_type": "code",
      "metadata": {
        "id": "-jfiO_9ceAHJ",
        "colab_type": "code",
        "colab": {}
      },
      "source": [
        "########################################\n",
        "# BUILD A BETTER MODEL HERE\n",
        "########################################\n",
        "\n",
        "class SingleEncodeDecode3D(nn.Module):\n",
        "\n",
        "    def __init__(self, num_classes):\n",
        "        super(SingleEncodeDecode3D, self).__init__()\n",
        "        self.layer1 = nn.Sequential(\n",
        "            nn.Conv3d(1, 6, kernel_size=3, stride=1, padding=1),\n",
        "            nn.ReLU())\n",
        "        self.layer2 = nn.Sequential(\n",
        "            nn.Conv3d(6, 16, kernel_size=3, stride=1, padding=1),\n",
        "            nn.ReLU(),\n",
        "            nn.MaxPool3d(kernel_size=2, stride=2))\n",
        "        self.layer3 = nn.Sequential(\n",
        "            nn.Conv3d(16, 120, kernel_size=1, stride=1, padding=0),\n",
        "            nn.ReLU())           \n",
        "        self.layer4 = nn.Sequential( \n",
        "            nn.Upsample(scale_factor=2),\n",
        "            nn.Conv3d(120, 84, kernel_size=3, stride=1, padding=1),\n",
        "            nn.ReLU())\n",
        "        self.layer5 = nn.Conv3d(84, num_classes, kernel_size=3, padding=1)\n",
        "\n",
        "    def forward(self, x):\n",
        "        out = self.layer1(x)\n",
        "        out = self.layer2(out)\n",
        "        out = self.layer3(out)\n",
        "        out = self.layer4(out)\n",
        "        out = self.layer5(out)\n",
        "        return F.softmax(out, dim=1)\n"
      ],
      "execution_count": 0,
      "outputs": []
    },
    {
      "cell_type": "code",
      "metadata": {
        "id": "FHLuYQqLRgOK",
        "colab_type": "code",
        "colab": {}
      },
      "source": [
        "class LeNet3D(nn.Module):\n",
        "    def __init__(self, num_classes):\n",
        "      super(LeNet3D, self).__init__()\n",
        "      self.layer1 = nn.Sequential(\n",
        "          nn.Conv3d(1, 6, kernel_size=3, stride=1, padding=1),\n",
        "          nn.ReLU())\n",
        "      self.layer2 = nn.Sequential(\n",
        "          nn.Conv3d(6, 16, kernel_size=3, stride=1, padding=1),\n",
        "          nn.ReLU()) \n",
        "      self.layer3 = nn.Sequential(\n",
        "          nn.Conv3d(16, 120, kernel_size=3, stride=1, padding=1),\n",
        "          nn.ReLU())           \n",
        "      self.layer4 = nn.Sequential(    \n",
        "          nn.Conv3d(120, 84, kernel_size=1, stride=1),\n",
        "          nn.ReLU())\n",
        "      self.layer5 = nn.Conv3d(84, num_classes, kernel_size=1)\n",
        "\n",
        "    def forward(self, x):\n",
        "        out = self.layer1(x)\n",
        "        out = self.layer2(out)\n",
        "        out = self.layer3(out)\n",
        "        out = self.layer4(out)\n",
        "        out = self.layer5(out)\n",
        "        return F.softmax(out, dim=1)"
      ],
      "execution_count": 0,
      "outputs": []
    },
    {
      "cell_type": "code",
      "metadata": {
        "id": "Se21gGeBTtBq",
        "colab_type": "code",
        "colab": {}
      },
      "source": [
        "class Shallow3D(nn.Module):\n",
        "\n",
        "    def __init__(self, num_classes):\n",
        "        super(Shallow3D, self).__init__()\n",
        "        self.layer1 = nn.Sequential(\n",
        "                  nn.Conv3d(1, 32, kernel_size=3, stride=1, padding=1),\n",
        "                  nn.ReLU())\n",
        "        self.layer2 = nn.Sequential(\n",
        "            nn.Conv3d(32, 84, kernel_size=3, stride=1, padding=1),\n",
        "            nn.ReLU())           \n",
        "        # self.layer3 = nn.Sequential(    \n",
        "        #     nn.Conv3d(120, 84, kernel_size=1, stride=1),\n",
        "        #     nn.ReLU())\n",
        "        self.layer4 = nn.Conv3d(84, num_classes, kernel_size=1)\n",
        "\n",
        "    def forward(self, x):\n",
        "        out = self.layer1(x)\n",
        "        out = self.layer2(out)\n",
        "        # out = self.layer3(out)\n",
        "        out = self.layer4(out)\n",
        "        return F.softmax(out, dim=1)"
      ],
      "execution_count": 0,
      "outputs": []
    },
    {
      "cell_type": "markdown",
      "metadata": {
        "id": "H7EJnaldeAHP",
        "colab_type": "text"
      },
      "source": [
        "#### TRAINING\n",
        "\n",
        "Below is an implementation of a full training procedure including a loop for intermediate evaluation of the model on the validation data. Feel free to modify this procedure. For example, in addition to the loss you may want to monitor precision, recall and Dice scores (or others)."
      ]
    },
    {
      "cell_type": "code",
      "metadata": {
        "id": "f7E3bHUS0iwE",
        "colab_type": "code",
        "colab": {}
      },
      "source": [
        "def train_model(model, num_epochs, learning_rate, batch_size, dataset_train):\n",
        "\n",
        "  # Set model to train, load in data\n",
        "  model.train()\n",
        "  dataloader_train = torch.utils.data.DataLoader(dataset_train, batch_size=batch_size, shuffle=True)\n",
        "    \n",
        "  optimizer = torch.optim.Adam(model.parameters(), lr=learning_rate)\n",
        "  loss_train_log = []\n",
        "  loss_val_log = []\n",
        "  epoch_val_log = []\n",
        "  overlap_measures_filter = sitk.LabelOverlapMeasuresImageFilter()\n",
        "\n",
        "\n",
        "  print('START TRAINING...')\n",
        "  for epoch in range(1, num_epochs + 1):\n",
        "\n",
        "    # Training\n",
        "    for batch_idx, batch_samples in enumerate(dataloader_train):\n",
        "\n",
        "      img, seg = batch_samples['img'].to(device), batch_samples['seg'].to(device)\n",
        "      optimizer.zero_grad()\n",
        "      prd = model(img)\n",
        "      prd_flat = prd.view(prd.size(0), prd.size(1), -1)\n",
        "      seg_flat = seg.view(seg.size(0), seg.size(1), -1)\n",
        "      loss = F.cross_entropy(prd_flat, seg_flat.squeeze(1))\n",
        "      loss.backward()\n",
        "      optimizer.step()\n",
        "\n",
        "    loss_train_log.append(loss.item())\n",
        "\n",
        "    # print('+ TRAINING \\tEpoch: {} \\tLoss: {:.6f}'.format(epoch, loss.item()))\n",
        "\n",
        "    # Validation\n",
        "    if epoch == 1 or epoch % val_interval == 0:\n",
        "\n",
        "      loss_val = 0\n",
        "      sum_pts = 0\n",
        "      idx_valid = 0\n",
        "      dice = 0\n",
        "      print('+ TRAINING \\tEpoch: {} \\tLoss: {:.6f}'.format(epoch, loss.item()))\n",
        "      with torch.no_grad():\n",
        "          for data_sample in dataloader_val:\n",
        "              img, seg = data_sample['img'].to(device), data_sample['seg'].to(device)\n",
        "              \n",
        "              prd = model(img)\n",
        "              prd_flat = prd.view(prd.size(0), prd.size(1), -1)\n",
        "              seg_flat = seg.view(seg.size(0), seg.size(1), -1)\n",
        "              \n",
        "              loss_val += F.cross_entropy(prd_flat, seg_flat.squeeze(1), reduction='sum').item()\n",
        "              sum_pts += seg_flat.size(2)\n",
        "              \n",
        "              pred = torch.argmax(prd, dim=1)\n",
        "\n",
        "              sample = dataset_val.get_sample(idx_valid)\n",
        "              name = dataset_val.get_seg_name(idx_valid)\n",
        "\n",
        "              prediction = sitk.GetImageFromArray(pred.cpu().squeeze().numpy().astype(np.int64))\n",
        "              prediction.CopyInformation(sample['seg'])\n",
        "\n",
        "              ref = sample['seg']        \n",
        "\n",
        "              overlap_measures_filter.Execute(ref, prediction)\n",
        "              dice += overlap_measures_filter.GetDiceCoefficient()                   \n",
        "              \n",
        "              idx_valid += 1\n",
        "\n",
        "      prd = torch.argmax(prd, dim=1)\n",
        "      \n",
        "      prediction = sitk.GetImageFromArray(prd.cpu().squeeze().numpy().astype(np.uint8))\n",
        "\n",
        "      loss_val /= sum_pts\n",
        "      dice /= idx_valid          \n",
        "      \n",
        "      loss_val_log.append(loss_val)\n",
        "      epoch_val_log.append(epoch)\n",
        "\n",
        "      # print('--------------------------------------------------')\n",
        "      # print('+ Validate \\t Dice Similarity Coefficient: ' + str(dice))\n",
        "      # print('+ Validate \\t Epoch: {} \\t Loss: {:.6f}'.format(epoch, loss_val))\n",
        "      # display_image(sitk.LabelToRGB(prediction))\n",
        "      # print('--------------------------------------------------')\n",
        "  print('+ Validate \\t Dice Similarity Coefficient: ' + str(dice))\n",
        "  print('\\nFinished TRAINING.')\n",
        "\n",
        "  plt.plot(range(1, num_epochs + 1), loss_train_log, c='r', label='train')\n",
        "  plt.plot(epoch_val_log, loss_val_log, c='b', label='val')\n",
        "  plt.legend(loc='upper right')\n",
        "  plt.xlabel('epoch')\n",
        "  plt.ylabel('loss')\n",
        "  plt.show()\n",
        "\n",
        "  # Evaluate best model by dice score calculated after all epochs complete\n",
        "  return dice, model"
      ],
      "execution_count": 0,
      "outputs": []
    },
    {
      "cell_type": "code",
      "metadata": {
        "scrolled": true,
        "id": "5ZemkAcAeAHQ",
        "colab_type": "code",
        "outputId": "3f028bd8-bc23-4dc9-843a-52dd26893659",
        "colab": {
          "base_uri": "https://localhost:8080/",
          "height": 1000
        }
      },
      "source": [
        "import copy\n",
        "\n",
        "model_dir = os.path.join(out_dir, 'model')\n",
        "if not os.path.exists(model_dir):\n",
        "    os.makedirs(model_dir)\n",
        "\n",
        "torch.manual_seed(rnd_seed) #fix random seed\n",
        "\n",
        "models = [LeNet3D(num_classes=num_classes).to(device), SingleEncodeDecode3D(num_classes=num_classes).to(device), Shallow3D(num_classes=num_classes).to(device)]\n",
        "\n",
        "optimal_model = None\n",
        "parameters = {\n",
        "    'learning_rate': 0,\n",
        "    'batch_size': 0,\n",
        "    'num_epochs': 0\n",
        "}\n",
        "\n",
        "best_dice = 0\n",
        "for arch in models:\n",
        "  for num_epochs in epochs:\n",
        "    for batch_size in batch_sizes:\n",
        "      for lr in learning_rates:\n",
        "        # Create copy of model for each iteration of parameters\n",
        "        training_model = copy.deepcopy(arch)\n",
        "        dice, model = train_model(training_model, num_epochs, lr, batch_size, dataset_train)\n",
        "        if dice > best_dice:\n",
        "          optimal_model = training_model\n",
        "          best_dice = dice\n",
        "          parameters['learning_rate'] = lr \n",
        "          parameters['num_epochs'] = num_epochs \n",
        "          parameters['batch_size'] = batch_size\n",
        "          torch.save(model.state_dict(), os.path.join(model_dir, 'model.pt'))\n"
      ],
      "execution_count": 0,
      "outputs": [
        {
          "output_type": "stream",
          "text": [
            "START TRAINING...\n",
            "+ TRAINING \tEpoch: 1 \tLoss: 0.816459\n",
            "+ TRAINING \tEpoch: 10 \tLoss: 0.767369\n",
            "+ TRAINING \tEpoch: 20 \tLoss: 0.765001\n",
            "+ TRAINING \tEpoch: 30 \tLoss: 0.764330\n",
            "+ Validate \t Dice Similarity Coefficient: 0.7838527400982074\n",
            "\n",
            "Finished TRAINING.\n",
            "START TRAINING...\n",
            "+ TRAINING \tEpoch: 1 \tLoss: 0.793595\n",
            "+ TRAINING \tEpoch: 10 \tLoss: 0.774783\n",
            "+ TRAINING \tEpoch: 20 \tLoss: 0.764320\n",
            "+ TRAINING \tEpoch: 30 \tLoss: 0.757141\n",
            "+ Validate \t Dice Similarity Coefficient: 0.8285374450762071\n",
            "\n",
            "Finished TRAINING.\n",
            "START TRAINING...\n",
            "+ TRAINING \tEpoch: 1 \tLoss: 1.290029\n",
            "+ TRAINING \tEpoch: 10 \tLoss: 0.777602\n",
            "+ TRAINING \tEpoch: 20 \tLoss: 0.771673\n",
            "+ TRAINING \tEpoch: 30 \tLoss: 0.774311\n",
            "+ Validate \t Dice Similarity Coefficient: 0.7380273180933088\n",
            "\n",
            "Finished TRAINING.\n",
            "START TRAINING...\n",
            "+ TRAINING \tEpoch: 1 \tLoss: 0.791218\n",
            "+ TRAINING \tEpoch: 10 \tLoss: 0.784017\n",
            "+ TRAINING \tEpoch: 20 \tLoss: 0.775655\n",
            "+ TRAINING \tEpoch: 30 \tLoss: 0.774643\n",
            "+ Validate \t Dice Similarity Coefficient: 0.6831141773206733\n",
            "\n",
            "Finished TRAINING.\n",
            "START TRAINING...\n",
            "+ TRAINING \tEpoch: 1 \tLoss: 0.812683\n",
            "+ TRAINING \tEpoch: 10 \tLoss: 0.774002\n",
            "+ TRAINING \tEpoch: 20 \tLoss: 0.767826\n",
            "+ TRAINING \tEpoch: 30 \tLoss: 0.769467\n",
            "+ TRAINING \tEpoch: 40 \tLoss: 0.768413\n",
            "+ TRAINING \tEpoch: 50 \tLoss: 0.763473\n",
            "+ TRAINING \tEpoch: 60 \tLoss: 0.762020\n",
            "+ Validate \t Dice Similarity Coefficient: 0.8199660958349902\n",
            "\n",
            "Finished TRAINING.\n",
            "START TRAINING...\n",
            "+ TRAINING \tEpoch: 1 \tLoss: 0.783724\n",
            "+ TRAINING \tEpoch: 10 \tLoss: 0.767294\n",
            "+ TRAINING \tEpoch: 20 \tLoss: 0.759617\n",
            "+ TRAINING \tEpoch: 30 \tLoss: 0.762463\n",
            "+ TRAINING \tEpoch: 40 \tLoss: 0.763794\n",
            "+ TRAINING \tEpoch: 50 \tLoss: 0.758931\n",
            "+ TRAINING \tEpoch: 60 \tLoss: 0.760507\n",
            "+ Validate \t Dice Similarity Coefficient: 0.8451474159396039\n",
            "\n",
            "Finished TRAINING.\n",
            "START TRAINING...\n",
            "+ TRAINING \tEpoch: 1 \tLoss: 1.291917\n",
            "+ TRAINING \tEpoch: 10 \tLoss: 0.774854\n",
            "+ TRAINING \tEpoch: 20 \tLoss: 0.772713\n",
            "+ TRAINING \tEpoch: 30 \tLoss: 0.770912\n",
            "+ TRAINING \tEpoch: 40 \tLoss: 0.770543\n",
            "+ TRAINING \tEpoch: 50 \tLoss: 0.765340\n",
            "+ TRAINING \tEpoch: 60 \tLoss: 0.765350\n",
            "+ Validate \t Dice Similarity Coefficient: 0.7853082097841415\n",
            "\n",
            "Finished TRAINING.\n",
            "START TRAINING...\n",
            "+ TRAINING \tEpoch: 1 \tLoss: 0.798305\n",
            "+ TRAINING \tEpoch: 10 \tLoss: 0.772390\n",
            "+ TRAINING \tEpoch: 20 \tLoss: 0.761846\n",
            "+ TRAINING \tEpoch: 30 \tLoss: 0.765277\n",
            "+ TRAINING \tEpoch: 40 \tLoss: 0.762019\n",
            "+ TRAINING \tEpoch: 50 \tLoss: 0.760013\n",
            "+ TRAINING \tEpoch: 60 \tLoss: 0.765509\n",
            "+ Validate \t Dice Similarity Coefficient: 0.830624179614821\n",
            "\n",
            "Finished TRAINING.\n",
            "START TRAINING...\n",
            "+ TRAINING \tEpoch: 1 \tLoss: 0.822055\n",
            "+ TRAINING \tEpoch: 10 \tLoss: 0.846617\n",
            "+ TRAINING \tEpoch: 20 \tLoss: 0.823371\n",
            "+ TRAINING \tEpoch: 30 \tLoss: 0.826592\n",
            "+ Validate \t Dice Similarity Coefficient: 0.0\n",
            "\n",
            "Finished TRAINING.\n",
            "START TRAINING...\n",
            "+ TRAINING \tEpoch: 1 \tLoss: 0.824352\n",
            "+ TRAINING \tEpoch: 10 \tLoss: 0.843291\n",
            "+ TRAINING \tEpoch: 20 \tLoss: 0.834647\n",
            "+ TRAINING \tEpoch: 30 \tLoss: 0.824352\n",
            "+ Validate \t Dice Similarity Coefficient: 0.0\n",
            "\n",
            "Finished TRAINING.\n",
            "START TRAINING...\n",
            "+ TRAINING \tEpoch: 1 \tLoss: 0.831428\n",
            "+ TRAINING \tEpoch: 10 \tLoss: 0.828960\n",
            "+ TRAINING \tEpoch: 20 \tLoss: 0.825953\n",
            "+ TRAINING \tEpoch: 30 \tLoss: 0.839438\n",
            "+ Validate \t Dice Similarity Coefficient: 0.0\n",
            "\n",
            "Finished TRAINING.\n",
            "START TRAINING...\n",
            "+ TRAINING \tEpoch: 1 \tLoss: 0.823532\n",
            "+ TRAINING \tEpoch: 10 \tLoss: 0.829794\n",
            "+ TRAINING \tEpoch: 20 \tLoss: 0.820629\n",
            "+ TRAINING \tEpoch: 30 \tLoss: 0.826025\n",
            "+ Validate \t Dice Similarity Coefficient: 0.0\n",
            "\n",
            "Finished TRAINING.\n",
            "START TRAINING...\n",
            "+ TRAINING \tEpoch: 1 \tLoss: 0.833505\n",
            "+ TRAINING \tEpoch: 10 \tLoss: 0.829897\n",
            "+ TRAINING \tEpoch: 20 \tLoss: 0.828908\n",
            "+ TRAINING \tEpoch: 30 \tLoss: 0.829323\n",
            "+ TRAINING \tEpoch: 40 \tLoss: 0.826796\n",
            "+ TRAINING \tEpoch: 50 \tLoss: 0.834386\n",
            "+ TRAINING \tEpoch: 60 \tLoss: 0.837724\n",
            "+ Validate \t Dice Similarity Coefficient: 0.0\n",
            "\n",
            "Finished TRAINING.\n",
            "START TRAINING...\n",
            "+ TRAINING \tEpoch: 1 \tLoss: 0.829897\n",
            "+ TRAINING \tEpoch: 10 \tLoss: 0.849576\n",
            "+ TRAINING \tEpoch: 20 \tLoss: 0.835473\n",
            "+ TRAINING \tEpoch: 30 \tLoss: 0.822708\n",
            "+ TRAINING \tEpoch: 40 \tLoss: 0.820105\n",
            "+ TRAINING \tEpoch: 50 \tLoss: 0.824352\n",
            "+ TRAINING \tEpoch: 60 \tLoss: 0.834386\n",
            "+ Validate \t Dice Similarity Coefficient: 0.0\n",
            "\n",
            "Finished TRAINING.\n",
            "START TRAINING...\n",
            "+ TRAINING \tEpoch: 1 \tLoss: 0.829726\n",
            "+ TRAINING \tEpoch: 10 \tLoss: 0.820192\n",
            "+ TRAINING \tEpoch: 20 \tLoss: 0.828900\n",
            "+ TRAINING \tEpoch: 30 \tLoss: 0.831520\n",
            "+ TRAINING \tEpoch: 40 \tLoss: 0.824940\n",
            "+ TRAINING \tEpoch: 50 \tLoss: 0.832146\n",
            "+ TRAINING \tEpoch: 60 \tLoss: 0.828354\n",
            "+ Validate \t Dice Similarity Coefficient: 0.0\n",
            "\n",
            "Finished TRAINING.\n",
            "START TRAINING...\n",
            "+ TRAINING \tEpoch: 1 \tLoss: 0.826918\n",
            "+ TRAINING \tEpoch: 10 \tLoss: 0.825858\n",
            "+ TRAINING \tEpoch: 20 \tLoss: 0.823399\n",
            "+ TRAINING \tEpoch: 30 \tLoss: 0.828262\n",
            "+ TRAINING \tEpoch: 40 \tLoss: 0.833452\n",
            "+ TRAINING \tEpoch: 50 \tLoss: 0.836115\n",
            "+ TRAINING \tEpoch: 60 \tLoss: 0.825096\n",
            "+ Validate \t Dice Similarity Coefficient: 0.0\n",
            "\n",
            "Finished TRAINING.\n",
            "START TRAINING...\n",
            "+ TRAINING \tEpoch: 1 \tLoss: 0.811667\n",
            "+ TRAINING \tEpoch: 10 \tLoss: 0.769018\n",
            "+ TRAINING \tEpoch: 20 \tLoss: 0.763501\n",
            "+ TRAINING \tEpoch: 30 \tLoss: 0.764417\n",
            "+ Validate \t Dice Similarity Coefficient: 0.8106556931365659\n",
            "\n",
            "Finished TRAINING.\n",
            "START TRAINING...\n",
            "+ TRAINING \tEpoch: 1 \tLoss: 0.783087\n",
            "+ TRAINING \tEpoch: 10 \tLoss: 0.764617\n",
            "+ TRAINING \tEpoch: 20 \tLoss: 0.760207\n",
            "+ TRAINING \tEpoch: 30 \tLoss: 0.761444\n",
            "+ Validate \t Dice Similarity Coefficient: 0.8308483600026655\n",
            "\n",
            "Finished TRAINING.\n",
            "START TRAINING...\n",
            "+ TRAINING \tEpoch: 1 \tLoss: 1.048872\n",
            "+ TRAINING \tEpoch: 10 \tLoss: 0.771565\n",
            "+ TRAINING \tEpoch: 20 \tLoss: 0.767466\n",
            "+ TRAINING \tEpoch: 30 \tLoss: 0.767980\n",
            "+ Validate \t Dice Similarity Coefficient: 0.7930567415478177\n",
            "\n",
            "Finished TRAINING.\n",
            "START TRAINING...\n",
            "+ TRAINING \tEpoch: 1 \tLoss: 0.796337\n",
            "+ TRAINING \tEpoch: 10 \tLoss: 0.768233\n",
            "+ TRAINING \tEpoch: 20 \tLoss: 0.764813\n",
            "+ TRAINING \tEpoch: 30 \tLoss: 0.760224\n",
            "+ Validate \t Dice Similarity Coefficient: 0.8081173277351592\n",
            "\n",
            "Finished TRAINING.\n",
            "START TRAINING...\n",
            "+ TRAINING \tEpoch: 1 \tLoss: 0.821531\n",
            "+ TRAINING \tEpoch: 10 \tLoss: 0.768006\n",
            "+ TRAINING \tEpoch: 20 \tLoss: 0.766444\n",
            "+ TRAINING \tEpoch: 30 \tLoss: 0.761929\n",
            "+ TRAINING \tEpoch: 40 \tLoss: 0.761946\n",
            "+ TRAINING \tEpoch: 50 \tLoss: 0.760742\n",
            "+ TRAINING \tEpoch: 60 \tLoss: 0.759972\n",
            "+ Validate \t Dice Similarity Coefficient: 0.8216870131332741\n",
            "\n",
            "Finished TRAINING.\n",
            "START TRAINING...\n",
            "+ TRAINING \tEpoch: 1 \tLoss: 0.789970\n",
            "+ TRAINING \tEpoch: 10 \tLoss: 0.775095\n",
            "+ TRAINING \tEpoch: 20 \tLoss: 0.789637\n",
            "+ TRAINING \tEpoch: 30 \tLoss: 0.776282\n",
            "+ TRAINING \tEpoch: 40 \tLoss: 0.774242\n",
            "+ TRAINING \tEpoch: 50 \tLoss: 0.765570\n",
            "+ TRAINING \tEpoch: 60 \tLoss: 0.761503\n",
            "+ Validate \t Dice Similarity Coefficient: 0.8357521351635183\n",
            "\n",
            "Finished TRAINING.\n",
            "START TRAINING...\n",
            "+ TRAINING \tEpoch: 1 \tLoss: 1.044759\n",
            "+ TRAINING \tEpoch: 10 \tLoss: 0.774679\n",
            "+ TRAINING \tEpoch: 20 \tLoss: 0.767517\n",
            "+ TRAINING \tEpoch: 30 \tLoss: 0.765621\n",
            "+ TRAINING \tEpoch: 40 \tLoss: 0.766723\n",
            "+ TRAINING \tEpoch: 50 \tLoss: 0.762102\n",
            "+ TRAINING \tEpoch: 60 \tLoss: 0.764009\n",
            "+ Validate \t Dice Similarity Coefficient: 0.8133928503797894\n",
            "\n",
            "Finished TRAINING.\n",
            "START TRAINING...\n",
            "+ TRAINING \tEpoch: 1 \tLoss: 0.808406\n",
            "+ TRAINING \tEpoch: 10 \tLoss: 0.786281\n",
            "+ TRAINING \tEpoch: 20 \tLoss: 0.776697\n",
            "+ TRAINING \tEpoch: 30 \tLoss: 0.761639\n",
            "+ TRAINING \tEpoch: 40 \tLoss: 0.762187\n",
            "+ TRAINING \tEpoch: 50 \tLoss: 0.763822\n",
            "+ TRAINING \tEpoch: 60 \tLoss: 0.762589\n",
            "+ Validate \t Dice Similarity Coefficient: 0.8307301700860096\n",
            "\n",
            "Finished TRAINING.\n"
          ],
          "name": "stdout"
        }
      ]
    },
    {
      "cell_type": "code",
      "metadata": {
        "id": "0JW98__gKqVf",
        "colab_type": "code",
        "outputId": "f50a389d-c9c6-4bc6-af53-f4cd16f87eae",
        "colab": {
          "base_uri": "https://localhost:8080/",
          "height": 353
        }
      },
      "source": [
        "print(\"Best architecture: \" + str(optimal_model))\n",
        "print(\"Best hyperparameters\" + str(parameters))"
      ],
      "execution_count": 0,
      "outputs": [
        {
          "output_type": "stream",
          "text": [
            "Best architecture: LeNet3D(\n",
            "  (layer1): Sequential(\n",
            "    (0): Conv3d(1, 6, kernel_size=(3, 3, 3), stride=(1, 1, 1), padding=(1, 1, 1))\n",
            "    (1): ReLU()\n",
            "  )\n",
            "  (layer2): Sequential(\n",
            "    (0): Conv3d(6, 16, kernel_size=(3, 3, 3), stride=(1, 1, 1), padding=(1, 1, 1))\n",
            "    (1): ReLU()\n",
            "  )\n",
            "  (layer3): Sequential(\n",
            "    (0): Conv3d(16, 120, kernel_size=(3, 3, 3), stride=(1, 1, 1), padding=(1, 1, 1))\n",
            "    (1): ReLU()\n",
            "  )\n",
            "  (layer4): Sequential(\n",
            "    (0): Conv3d(120, 84, kernel_size=(1, 1, 1), stride=(1, 1, 1))\n",
            "    (1): ReLU()\n",
            "  )\n",
            "  (layer5): Conv3d(84, 4, kernel_size=(1, 1, 1), stride=(1, 1, 1))\n",
            ")\n",
            "Best hyperparameters{'learning_rate': 0.005, 'batch_size': 2, 'num_epochs': 60}\n"
          ],
          "name": "stdout"
        }
      ]
    },
    {
      "cell_type": "markdown",
      "metadata": {
        "id": "0xVZw9w4eAHX",
        "colab_type": "text"
      },
      "source": [
        "#### Loading and pre-processing of testing data\n",
        "\n",
        "Now that we have trained a model, the next cells are about applying that model to the 500 subjects that are used for training the age regressor. Note, at a later stage you will also need to run the model on the 100 subjects from the hold-out set, once these have been made available. Before testing on the full set, you may want to initially just test on the 5 validation subjects to check everything is working fine."
      ]
    },
    {
      "cell_type": "code",
      "metadata": {
        "id": "PLuNtwW_eAHY",
        "colab_type": "code",
        "colab": {}
      },
      "source": [
        "meta_data_reg_train = pd.read_csv(data_dir + 'meta/meta_data_reg_train.csv')\n",
        "ids_seg_test = list(meta_data_reg_train['subject_id'])\n",
        "files_seg_img_test = [data_dir + 'images/sub-' + f + '_T1w_unbiased.nii.gz' for f in ids_seg_test]\n",
        "files_seg_seg_test = [data_dir + 'segs_refs/sub-' + f + '_T1w_seg.nii.gz' for f in ids_seg_test]\n",
        "files_seg_msk_test = [data_dir + 'masks/sub-' + f + '_T1w_brain_mask.nii.gz' for f in ids_seg_test]\n",
        "\n",
        "dataset_test = ImageSegmentationDataset(files_seg_img_test, files_seg_seg_test, files_seg_msk_test, img_spacing, img_size)\n",
        "dataloader_test = torch.utils.data.DataLoader(dataset_test, batch_size=1, shuffle=False)"
      ],
      "execution_count": 0,
      "outputs": []
    },
    {
      "cell_type": "markdown",
      "metadata": {
        "id": "Q1KtHycbeAHd",
        "colab_type": "text"
      },
      "source": [
        "#### Visualise testing example\n",
        "\n",
        "Just to check how a testing image looks like after pre-processing."
      ]
    },
    {
      "cell_type": "code",
      "metadata": {
        "id": "qYhbDX5oeAHe",
        "colab_type": "code",
        "outputId": "79e0b5b2-8a09-41f9-d217-b77e2e336994",
        "colab": {
          "base_uri": "https://localhost:8080/",
          "height": 665
        }
      },
      "source": [
        "sample = dataset_test.get_sample(0)\n",
        "img_name = dataset_test.get_img_name(0)\n",
        "seg_name = dataset_test.get_seg_name(0)\n",
        "print('Image: ' + img_name)\n",
        "display_image(sample['img'], window=5, level=0)\n",
        "print('Segmentation')\n",
        "display_image(sitk.LabelToRGB(sample['seg']))\n",
        "print('Mask')\n",
        "display_image(sample['msk'])"
      ],
      "execution_count": 0,
      "outputs": [
        {
          "output_type": "stream",
          "text": [
            "Image: sub-CC520745_T1w_unbiased.nii.gz\n"
          ],
          "name": "stdout"
        },
        {
          "output_type": "display_data",
          "data": {
            "image/png": "[encoded data removed]",
            "text/plain": [
              "<Figure size 720x288 with 3 Axes>"
            ]
          },
          "metadata": {
            "tags": []
          }
        },
        {
          "output_type": "stream",
          "text": [
            "Segmentation\n"
          ],
          "name": "stdout"
        },
        {
          "output_type": "display_data",
          "data": {
            "image/png": "[encoded data removed]",
            "text/plain": [
              "<Figure size 720x288 with 3 Axes>"
            ]
          },
          "metadata": {
            "tags": []
          }
        },
        {
          "output_type": "stream",
          "text": [
            "Mask\n"
          ],
          "name": "stdout"
        },
        {
          "output_type": "display_data",
          "data": {
            "image/png": "[encoded data removed]",
            "text/plain": [
              "<Figure size 720x288 with 3 Axes>"
            ]
          },
          "metadata": {
            "tags": []
          }
        }
      ]
    },
    {
      "cell_type": "markdown",
      "metadata": {
        "id": "orXxja7aeAHi",
        "colab_type": "text"
      },
      "source": [
        "#### TESTING\n",
        "\n",
        "Below is an implementation of a full testing procedure that saves the segmentations in an output folder. Feel free to modify this procedure.\n",
        "\n",
        "**TASK: You will need to add the calculations of Dice scores (and possibly others) to evaluate the segmentation performance.**"
      ]
    },
    {
      "cell_type": "code",
      "metadata": {
        "scrolled": true,
        "id": "u6RGWItleAHj",
        "colab_type": "code",
        "outputId": "6c71a619-dbab-4f57-c6ec-7189bd9674d2",
        "colab": {
          "base_uri": "https://localhost:8080/",
          "height": 416
        }
      },
      "source": [
        "from matplotlib.pyplot import boxplot\n",
        "from sklearn.metrics import precision_score, recall_score, f1_score\n",
        "\n",
        "model = optimal_model\n",
        "model.load_state_dict(torch.load(os.path.join(model_dir, 'model.pt')))\n",
        "model.to(device)\n",
        "model.eval()\n",
        "\n",
        "def get_test_segs(model, dir_name):\n",
        "\n",
        "  overlap_measures_filter = sitk.LabelOverlapMeasuresImageFilter()\n",
        "  hausdorff_distance_filter = sitk.HausdorffDistanceImageFilter()\n",
        "\n",
        "  pred_dir = os.path.join(out_dir, dir_name)\n",
        "  if not os.path.exists(pred_dir):\n",
        "      os.makedirs(pred_dir)\n",
        "  \n",
        "  print('START TESTING...')\n",
        "\n",
        "  loss_test = 0\n",
        "  sum_pts = 0\n",
        "  idx_test = 0\n",
        "  jaccard_test = 0\n",
        "  dice_test = 0\n",
        "  avg_hausdorff_test = 0\n",
        "\n",
        "  precision_test = 0\n",
        "  recall_test = 0\n",
        "  f1_test = []\n",
        "\n",
        "  with torch.no_grad():\n",
        "      for data_sample in dataloader_test:\n",
        "          img, seg = data_sample['img'].to(device), data_sample['seg'].to(device)\n",
        "          prd = model(img)\n",
        "          prd_flat = prd.view(prd.size(0), prd.size(1), -1)\n",
        "          seg_flat = seg.view(seg.size(0), seg.size(1), -1)\n",
        "          loss_test += F.cross_entropy(prd_flat, seg_flat.squeeze(1), reduction='sum').item()\n",
        "          sum_pts += seg_flat.size(2)        \n",
        "          \n",
        "          prd = torch.argmax(prd, dim=1)\n",
        "\n",
        "          sample = dataset_test.get_sample(idx_test)\n",
        "          name = dataset_test.get_seg_name(idx_test)\n",
        "          \n",
        "          prediction = sitk.GetImageFromArray(prd.cpu().squeeze().numpy().astype(np.int64))\n",
        "          prediction.CopyInformation(sample['seg'])\n",
        "          sitk.WriteImage(prediction, os.path.join(pred_dir, name))\n",
        "          \n",
        "          ref = sample['seg']        \n",
        "          \n",
        "          overlap_measures_filter.Execute(ref, prediction)\n",
        "          jaccard_test += overlap_measures_filter.GetJaccardCoefficient()\n",
        "          dice_test += overlap_measures_filter.GetDiceCoefficient()\n",
        "\n",
        "          ref_contour = sitk.LabelContour(ref)\n",
        "          prediction_contour = sitk.LabelContour(prediction)\n",
        "          \n",
        "          hausdorff_distance_filter.Execute(ref_contour, prediction_contour)\n",
        "          avg_hausdorff_test += hausdorff_distance_filter.GetAverageHausdorffDistance()\n",
        "          \n",
        "          preds = sitk.GetArrayFromImage(prediction).reshape(-1,)\n",
        "          refs = sitk.GetArrayFromImage(ref).reshape(-1,)\n",
        "                  \n",
        "          f1_test.append(f1_score(preds, refs, average=None))\n",
        "          precision_test += precision_score(preds, refs, average=None)\n",
        "          recall_test += recall_score(preds, refs, average=None)\n",
        "          \n",
        "          idx_test += 1\n",
        "\n",
        "\n",
        "  precision_test /= idx_test\n",
        "  recall_test /= idx_test\n",
        "  loss_test /= sum_pts\n",
        "  jaccard_test /= idx_test\n",
        "  dice_test /= idx_test\n",
        "  avg_hausdorff_test /= idx_test\n",
        "\n",
        "  print('+ TESTING \\tJaccard Index: ' + str(jaccard_test))\n",
        "  print('+ TESTING \\tDice Similarity Coefficient: ' + str(dice_test))\n",
        "  print('+ TESTING \\tAverage Hausdorff Distance: ' + str(avg_hausdorff_test))\n",
        "  print('+ TESTING \\tPrecision: ' + str(precision_test))\n",
        "  print('+ TESTING \\tRecall: ' + str(recall_test))\n",
        "  print('+ TESTING \\tLoss: {:.6f}'.format(loss_test))\n",
        "\n",
        "  f1_test = np.array(f1_test)\n",
        "  plt.boxplot([f1_test[0, :], f1_test[1, :], f1_test[2, :], f1_test[3, :]],\n",
        "            labels=['Background', 'CSF', 'GM', 'WM'])\n",
        "  plt.ylabel('Dice Similarity Coefficient (F1 score)')\n",
        "  plt.show()\n",
        "\n",
        "  print('\\nFinished TESTING.')\n",
        "\n",
        "get_test_segs(model, \"train_pred\")"
      ],
      "execution_count": 0,
      "outputs": [
        {
          "output_type": "stream",
          "text": [
            "START TESTING...\n",
            "+ TESTING \tJaccard Index: 0.6971392049991003\n",
            "+ TESTING \tDice Similarity Coefficient: 0.8205742131131263\n",
            "+ TESTING \tAverage Hausdorff Distance: 0.4197204202389069\n",
            "+ TESTING \tPrecision: [0.99555048 0.69391597 0.88570956 0.89462974]\n",
            "+ TESTING \tRecall: [0.99683093 0.77616976 0.79561038 0.87481665]\n",
            "+ TESTING \tLoss: 0.762591\n"
          ],
          "name": "stdout"
        },
        {
          "output_type": "display_data",
          "data": {
            "image/png": "[encoded data removed]",
            "text/plain": [
              "<Figure size 432x288 with 1 Axes>"
            ]
          },
          "metadata": {
            "tags": []
          }
        },
        {
          "output_type": "stream",
          "text": [
            "\n",
            "Finished TESTING.\n"
          ],
          "name": "stdout"
        }
      ]
    },
    {
      "cell_type": "markdown",
      "metadata": {
        "id": "IA_KMnq_3KOP",
        "colab_type": "text"
      },
      "source": [
        "#### Using the Testing Data"
      ]
    },
    {
      "cell_type": "code",
      "metadata": {
        "id": "gBTWF4mB3X_h",
        "colab_type": "code",
        "colab": {}
      },
      "source": [
        "meta_data_reg_test = pd.read_csv('meta_data_reg_test.csv')\n",
        "ids_seg_test = list(meta_data_reg_test['subject_id'])\n",
        "files_seg_img_test = [data_dir + 'images/sub-' + f + '_T1w_unbiased.nii.gz' for f in ids_seg_test]\n",
        "files_seg_seg_test = [data_dir + 'segs_refs/sub-' + f + '_T1w_seg.nii.gz' for f in ids_seg_test]\n",
        "files_seg_msk_test = [data_dir + 'masks/sub-' + f + '_T1w_brain_mask.nii.gz' for f in ids_seg_test]\n",
        "\n",
        "dataset_test = ImageSegmentationDataset(files_seg_img_test, files_seg_seg_test, files_seg_msk_test, img_spacing, img_size)\n",
        "dataloader_test = torch.utils.data.DataLoader(dataset_test, batch_size=1, shuffle=False)"
      ],
      "execution_count": 0,
      "outputs": []
    },
    {
      "cell_type": "code",
      "metadata": {
        "id": "0WkxVMOf621u",
        "colab_type": "code",
        "outputId": "04d5ea80-e526-4109-e587-c6383cda0ded",
        "colab": {
          "base_uri": "https://localhost:8080/",
          "height": 416
        }
      },
      "source": [
        "# Load (downloaded) best model to avoid running A1 again\n",
        "\n",
        "model = LeNet3D(num_classes)\n",
        "model.load_state_dict(torch.load('model.pt'))\n",
        "model.to(device)\n",
        "model.eval()\n",
        "\n",
        "get_test_segs(model, \"test_pred\")"
      ],
      "execution_count": 0,
      "outputs": [
        {
          "output_type": "stream",
          "text": [
            "START TESTING...\n",
            "+ TESTING \tJaccard Index: 0.6987561507273595\n",
            "+ TESTING \tDice Similarity Coefficient: 0.821780143148642\n",
            "+ TESTING \tAverage Hausdorff Distance: 0.4132211539622807\n",
            "+ TESTING \tPrecision: [0.99550094 0.70322048 0.88685971 0.8903081 ]\n",
            "+ TESTING \tRecall: [0.99712169 0.76418644 0.79881195 0.87782087]\n",
            "+ TESTING \tLoss: 0.762179\n"
          ],
          "name": "stdout"
        },
        {
          "output_type": "display_data",
          "data": {
            "image/png": "[encoded data removed]",
            "text/plain": [
              "<Figure size 432x288 with 1 Axes>"
            ]
          },
          "metadata": {
            "tags": []
          }
        },
        {
          "output_type": "stream",
          "text": [
            "\n",
            "Finished TESTING.\n"
          ],
          "name": "stdout"
        }
      ]
    },
    {
      "cell_type": "markdown",
      "metadata": {
        "id": "1kJ7cAAzeAHo",
        "colab_type": "text"
      },
      "source": [
        "### TASK A-2: Feature calculation\n",
        "\n",
        "Start by calculating the three absolute tissue volumes for each subject. Plot the volumes against the subjects' ages. Taking the absolute volumes of tissues as features, however, might not be predictive. Instead, relative volumes need to be computed as the ratios between each tissue volume and overall brain volume. But you might also want to explore using different combinations or even polynomial features.\n",
        "\n",
        "Implement a function that constructs a big matrix $X$ with a row for each subject and features across the columns. Start with just calculating three simple features of relative tissue volumes for GM, WM and CSF, and compare these to the absolute volumes plotted above.\n",
        "\n",
        "*Note:* If you are struggling with the previous task on image segmentation, or if you prefer to work on this and the following tasks first, you can continue here using the provided reference segmentations which can be found in a subfolder `segs_refs`."
      ]
    },
    {
      "cell_type": "code",
      "metadata": {
        "id": "PlMPHSHMeAHp",
        "colab_type": "code",
        "colab": {}
      },
      "source": [
        "## CALCULATE ABSOLUTE TISSUE VOLUMES\n",
        "\n",
        "import os\n",
        "\n",
        "def store_segs_in_matrix(files):\n",
        "  vols = np.zeros((3,len(files)))\n",
        "  for idx, _ in enumerate(tqdm(range(len(files)), desc='Calculating Features')):\n",
        "      \n",
        "      seg_filename = files[idx]\n",
        "      \n",
        "      if os.path.exists(seg_filename):\n",
        "          seg = sitk.ReadImage(seg_filename)\n",
        "          \n",
        "          ########################################\n",
        "          seg_array = sitk.GetArrayFromImage(seg).flatten()\n",
        "      \n",
        "          vols[0, idx] = seg_array[seg_array == 1].shape[0]\n",
        "          vols[1, idx] = seg_array[seg_array == 2].shape[0]\n",
        "          vols[2, idx] = seg_array[seg_array == 3].shape[0]\n",
        "          ########################################\n",
        "  return vols\n",
        "\n",
        "# USE THIS TO RUN THE CALCULATIONS ON YOUR SEGMENTATONS\n",
        "train_seg_dir = './output/train_pred/'\n",
        "test_seg_dir = './output/test_pred/'\n",
        "\n",
        "# USE THIS TO RUN THE CALCULATIONS ON OUR REFERENCE SEGMENTATIONS\n",
        "# seg_dir = data_dir + 'segs_refs/'\n",
        "\n",
        "meta_data_reg_train = pd.read_csv(data_dir + 'meta/meta_data_reg_train.csv')\n",
        "ids_reg_train = list(meta_data_reg_train['subject_id'])\n",
        "files_reg_seg_train = [train_seg_dir + 'sub-' + f + '_T1w_seg.nii.gz' for f in ids_reg_train]\n",
        "\n",
        "meta_data_reg_test = pd.read_csv('meta_data_reg_test.csv')\n",
        "ids_reg_test = list(meta_data_reg_test['subject_id'])\n",
        "files_reg_seg_test = [test_seg_dir + 'sub-' + f + '_T1w_seg.nii.gz' for f in ids_reg_test]\n",
        "\n",
        "\n",
        "# THIS MATRIX WILL STORE THE VOLUMES PER TISSUE CLASS\n",
        "train_vols = store_segs_in_matrix(files_reg_seg_train)\n",
        "test_vols = store_segs_in_matrix(files_reg_seg_test)"
      ],
      "execution_count": 0,
      "outputs": []
    },
    {
      "cell_type": "markdown",
      "metadata": {
        "id": "YV8F5h0LeAHt",
        "colab_type": "text"
      },
      "source": [
        "Plot features versus age."
      ]
    },
    {
      "cell_type": "code",
      "metadata": {
        "id": "xNYO8GPTeAHu",
        "colab_type": "code",
        "outputId": "f146d18c-2b40-4924-e6fb-81d447e69daa",
        "colab": {
          "base_uri": "https://localhost:8080/",
          "height": 295
        }
      },
      "source": [
        "plt.scatter(train_vols[0,:],meta_data_reg_train['age'], marker='.')\n",
        "plt.scatter(train_vols[1,:],meta_data_reg_train['age'], marker='.')\n",
        "plt.scatter(train_vols[2,:],meta_data_reg_train['age'], marker='.')\n",
        "plt.grid()\n",
        "plt.title('Unnormalised')\n",
        "plt.xlabel('Volume')\n",
        "plt.ylabel('Age')\n",
        "plt.legend(('CSF','GM','WM'))\n",
        "plt.show()"
      ],
      "execution_count": 0,
      "outputs": [
        {
          "output_type": "display_data",
          "data": {
            "image/png": "[encoded data removed]",
            "text/plain": [
              "<Figure size 432x288 with 1 Axes>"
            ]
          },
          "metadata": {
            "tags": []
          }
        }
      ]
    },
    {
      "cell_type": "code",
      "metadata": {
        "id": "mKtlGQv_eAHy",
        "colab_type": "code",
        "colab": {}
      },
      "source": [
        "## CALCULATE RELATIVE TISSUE VOLUMES\n",
        "\n",
        "vols_normalised = np.zeros((3,len(files_reg_seg_train)))\n",
        "vols_normalised_test = np.zeros((3,len(files_reg_seg_test)))\n",
        "\n",
        "########################################\n",
        "vols_normalised = train_vols / train_vols.sum(axis=0)\n",
        "vols_normalised_test = test_vols / test_vols.sum(axis=0)\n",
        "########################################"
      ],
      "execution_count": 0,
      "outputs": []
    },
    {
      "cell_type": "markdown",
      "metadata": {
        "id": "UYWAD8l5eAH2",
        "colab_type": "text"
      },
      "source": [
        "Plot normalised features versus age."
      ]
    },
    {
      "cell_type": "code",
      "metadata": {
        "id": "1q0CU8FXeAH3",
        "colab_type": "code",
        "outputId": "4a0e510d-5ae0-40fa-b7da-96af458de0a7",
        "colab": {
          "base_uri": "https://localhost:8080/",
          "height": 295
        }
      },
      "source": [
        "plt.scatter(vols_normalised[0,:],meta_data_reg_train['age'], marker='.')\n",
        "plt.scatter(vols_normalised[1,:],meta_data_reg_train['age'], marker='.')\n",
        "plt.scatter(vols_normalised[2,:],meta_data_reg_train['age'], marker='.')\n",
        "plt.grid()\n",
        "plt.title('Normalised')\n",
        "plt.xlabel('Volume')\n",
        "plt.ylabel('Age')\n",
        "plt.legend(('CSF','GM','WM'))\n",
        "plt.show()"
      ],
      "execution_count": 0,
      "outputs": [
        {
          "output_type": "display_data",
          "data": {
            "image/png": "[encoded data removed]",
            "text/plain": [
              "<Figure size 432x288 with 1 Axes>"
            ]
          },
          "metadata": {
            "tags": []
          }
        }
      ]
    },
    {
      "cell_type": "markdown",
      "metadata": {
        "id": "Wc4uiaO-eAH8",
        "colab_type": "text"
      },
      "source": [
        "Final data for age regression"
      ]
    },
    {
      "cell_type": "code",
      "metadata": {
        "id": "ElERFH1leAH9",
        "colab_type": "code",
        "outputId": "939022c4-760f-4f0e-e0b5-094a3af76fac",
        "colab": {
          "base_uri": "https://localhost:8080/",
          "height": 84
        }
      },
      "source": [
        "X_train = vols_normalised.T\n",
        "y_train = meta_data_reg_train['age'].values.reshape(-1,1)\n",
        "\n",
        "X_test = vols_normalised_test.T\n",
        "y_test = meta_data_reg_test['age'].values.reshape(-1,1)\n",
        "\n",
        "print(X_train.shape)\n",
        "print(y_train.shape)\n",
        "\n",
        "print(X_test.shape)\n",
        "print(y_test.shape)"
      ],
      "execution_count": 0,
      "outputs": [
        {
          "output_type": "stream",
          "text": [
            "(500, 3)\n",
            "(500, 1)\n",
            "(100, 3)\n",
            "(100, 1)\n"
          ],
          "name": "stdout"
        }
      ]
    },
    {
      "cell_type": "markdown",
      "metadata": {
        "id": "rgSpIZudeAIE",
        "colab_type": "text"
      },
      "source": [
        "### TASK A-3: Age regression and cross-validation\n",
        "\n",
        "Experiment with different regression methods from the [scikit-learn toolkit](http://scikit-learn.org/stable/supervised_learning.html#supervised-learning). Remember to construct the output vectur $y$ containing the age for each of the subjects.\n",
        "\n",
        "Evaluate the methods using two-fold [cross-validation](http://scikit-learn.org/stable/modules/cross_validation.html#cross-validation) where the dataset of 500 subjects is split into two equally sized sets $(X_1,y_1)$ and $(X_2,y_2)$ which are used for training and testing in an alternating way (so each set is used as $(X_{\\text{train}},y_{\\text{train}})$ and $(X_{\\text{test}},y_{\\text{test}})$ exactly once).\n",
        "\n",
        "Try using at least three different regression methods, and generate a plot allows easy comparison of the performance of the three methods. Useful [error metrics](https://scikit-learn.org/stable/modules/model_evaluation.html#regression-metrics) to report include mean absolute error and r2 score. You might also want to plot the real vs predicted ages.\n",
        "\n",
        "*Note:* These [scikit-learn examples](https://scikit-learn.org/stable/auto_examples/) might serve as an inspiration.\n",
        "\n",
        "*Hint:* Be careful how you split the dataset into two folds. Take into account the data characteristics shown at the top of the notebook."
      ]
    },
    {
      "cell_type": "code",
      "metadata": {
        "id": "VPuxOeA690U1",
        "colab_type": "code",
        "colab": {}
      },
      "source": [
        "import warnings\n",
        "from sklearn.exceptions import DataConversionWarning\n",
        "warnings.filterwarnings(action='ignore', category=DataConversionWarning)"
      ],
      "execution_count": 0,
      "outputs": []
    },
    {
      "cell_type": "code",
      "metadata": {
        "id": "bEL27s8seAIF",
        "colab_type": "code",
        "colab": {}
      },
      "source": [
        "from sklearn.model_selection import KFold\n",
        "from sklearn.metrics import mean_absolute_error, r2_score\n",
        "from sklearn.base import clone\n",
        "\n",
        "def error_calculation_and_plot_regression(y_pred, y_true):\n",
        "    print('mean absolute error: {0}'.format(mean_absolute_error(y_true, y_pred)))\n",
        "    print('r2 score: {0}'.format(r2_score(y_true, y_pred)))\n",
        "    fig, ax = plt.subplots()\n",
        "    ax.scatter(y_true, y_pred, marker='.')\n",
        "    ax.plot([y.min(), y.max()], [y.min(), y.max()], 'k--', lw=2)\n",
        "    ax.set_xlabel('Real Age')\n",
        "    ax.set_ylabel('Predicted Age')\n",
        "    plt.show()\n",
        "\n",
        "def train_model_cv(model, X, y):\n",
        "    kf = KFold(n_splits=2, shuffle=True)\n",
        "    mae = 0\n",
        "    splits = kf.split(X)\n",
        "    for idx, (train_index, val_index) in enumerate(splits):\n",
        "        X_train, X_val = X[train_index], X[val_index]     \n",
        "        cur_model = clone(model)\n",
        "        cur_model.fit(X_train, y[train_index])\n",
        "        y_pred = cur_model.predict(X_val)\n",
        "        y_true = y[val_index]\n",
        "        mae += mean_absolute_error(y_true, y_pred)\n",
        "    mae /= 2\n",
        "    return mae\n",
        "\n",
        " \n",
        "def train_and_test_model(X_train, y_train, X_test, y_test, model):\n",
        "    model.fit(X_train, y_train)\n",
        "    y_pred = model.predict(X_test)\n",
        "    print(\"MAE: \", mean_absolute_error(y_test, y_pred))\n",
        "  "
      ],
      "execution_count": 0,
      "outputs": []
    },
    {
      "cell_type": "code",
      "metadata": {
        "id": "CQVkmOzGNZU5",
        "colab_type": "code",
        "outputId": "a9bca923-f24d-4344-ec75-d11cf03219f6",
        "colab": {
          "base_uri": "https://localhost:8080/",
          "height": 67
        }
      },
      "source": [
        "from sklearn.svm import SVR\n",
        "import sys\n",
        "\n",
        "# SVR \n",
        "\n",
        "kernels = ['linear', 'rbf', 'poly', 'sigmoid']\n",
        "Cs = [0.001, 0.005, 0.1, 0.5, 1, 2, 5, 10, 20, 30, 40, 50, 75, 100]\n",
        "\n",
        "best_mae = sys.maxsize\n",
        "best_model = None\n",
        "for k in kernels:\n",
        "  for c in Cs: \n",
        "    model = SVR(kernel=k, C=c)\n",
        "    mae = train_model_cv(model, X_train, y_train) \n",
        "    if mae < best_mae:\n",
        "        best_mae = mae\n",
        "        best_model = model\n",
        "print(\"Model: \" + str(best_model))\n",
        "print(\"MAE: \" + str(best_mae))"
      ],
      "execution_count": 0,
      "outputs": [
        {
          "output_type": "stream",
          "text": [
            "Model: SVR(C=30, cache_size=200, coef0=0.0, degree=3, epsilon=0.1, gamma='scale',\n",
            "    kernel='rbf', max_iter=-1, shrinking=True, tol=0.001, verbose=False)\n",
            "MAE: 6.6691862748463935\n"
          ],
          "name": "stdout"
        }
      ]
    },
    {
      "cell_type": "code",
      "metadata": {
        "id": "IVA7wC2X_CaL",
        "colab_type": "code",
        "outputId": "41eabd9b-2d09-4744-cc55-d0454e37e371",
        "colab": {
          "base_uri": "https://localhost:8080/",
          "height": 34
        }
      },
      "source": [
        "# Test MAE\n",
        "train_and_test_model(X_train, y_train, X_test, y_test, best_model)"
      ],
      "execution_count": 0,
      "outputs": [
        {
          "output_type": "stream",
          "text": [
            "MAE:  6.180384032597695\n"
          ],
          "name": "stdout"
        }
      ]
    },
    {
      "cell_type": "code",
      "metadata": {
        "id": "Bi6gVH5BUL0w",
        "colab_type": "code",
        "outputId": "3709e5f1-ec1f-48d0-971f-fb0b0f7f58d1",
        "colab": {
          "base_uri": "https://localhost:8080/",
          "height": 101
        }
      },
      "source": [
        "from sklearn.linear_model import LinearRegression, Ridge, Lasso, BayesianRidge, SGDRegressor\n",
        "\n",
        "# Linear Models\n",
        "\n",
        "linear_models = [LinearRegression(), \n",
        "          Ridge(alpha=.5),\n",
        "          Ridge(alpha=1),\n",
        "          Ridge(alpha=2),\n",
        "          Lasso(alpha=0.05),\n",
        "          Lasso(alpha=0.1),\n",
        "          Lasso(alpha=0.2),\n",
        "          BayesianRidge(),\n",
        "          SGDRegressor(max_iter=10000, early_stopping=True)]\n",
        "\n",
        "best_mae = sys.maxsize\n",
        "best_model = None\n",
        "for model in linear_models:\n",
        "    mae = train_model_cv(model, X_train, y_train) \n",
        "    if mae < best_mae:\n",
        "        best_mae = mae\n",
        "        best_model = model\n",
        "print(\"Model: \" + str(best_model))\n",
        "print(\"MAE: \" + str(best_mae))\n",
        "\n"
      ],
      "execution_count": 0,
      "outputs": [
        {
          "output_type": "stream",
          "text": [
            "Model: BayesianRidge(alpha_1=1e-06, alpha_2=1e-06, alpha_init=None,\n",
            "              compute_score=False, copy_X=True, fit_intercept=True,\n",
            "              lambda_1=1e-06, lambda_2=1e-06, lambda_init=None, n_iter=300,\n",
            "              normalize=False, tol=0.001, verbose=False)\n",
            "MAE: 7.069001548469489\n"
          ],
          "name": "stdout"
        }
      ]
    },
    {
      "cell_type": "code",
      "metadata": {
        "id": "aR0n5xc-GVeT",
        "colab_type": "code",
        "outputId": "98e33336-7d1a-48f8-e7c3-237825b5d4ef",
        "colab": {
          "base_uri": "https://localhost:8080/",
          "height": 34
        }
      },
      "source": [
        "# Test MAE\n",
        "train_and_test_model(X_train, y_train, X_test, y_test, best_model)"
      ],
      "execution_count": 0,
      "outputs": [
        {
          "output_type": "stream",
          "text": [
            "MAE:  6.8622495352484325\n"
          ],
          "name": "stdout"
        }
      ]
    },
    {
      "cell_type": "code",
      "metadata": {
        "id": "U5AuskBNWr0U",
        "colab_type": "code",
        "outputId": "aadee199-56d4-4a58-a015-7afbb75cdf62",
        "colab": {
          "base_uri": "https://localhost:8080/",
          "height": 151
        }
      },
      "source": [
        "from sklearn.ensemble import RandomForestRegressor\n",
        "\n",
        "# RandomForestRegressor\n",
        "\n",
        "n_estimators = [1, 3, 5, 10, 20, 30, 40, 50, 60]\n",
        "max_features = ['auto', 'sqrt', 'log2', None]\n",
        "max_depth = [1, 2, 3, 5, 6, 7, 8, 10, 15, 20, None]\n",
        "\n",
        "best_mae = sys.maxsize\n",
        "best_model = None\n",
        "for n in n_estimators:\n",
        "  for f in max_features:\n",
        "    for d in max_depth:\n",
        "      model = RandomForestRegressor(n_estimators=n, max_features=f, max_depth=d)\n",
        "      mae = train_model_cv(model, X_train, y_train) \n",
        "      if mae < best_mae:\n",
        "          best_mae = mae\n",
        "          best_model = model\n",
        "print(\"Model: \" + str(best_model))\n",
        "print(\"MAE: \" + str(best_mae))"
      ],
      "execution_count": 0,
      "outputs": [
        {
          "output_type": "stream",
          "text": [
            "Model: RandomForestRegressor(bootstrap=True, ccp_alpha=0.0, criterion='mse',\n",
            "                      max_depth=10, max_features='log2', max_leaf_nodes=None,\n",
            "                      max_samples=None, min_impurity_decrease=0.0,\n",
            "                      min_impurity_split=None, min_samples_leaf=1,\n",
            "                      min_samples_split=2, min_weight_fraction_leaf=0.0,\n",
            "                      n_estimators=50, n_jobs=None, oob_score=False,\n",
            "                      random_state=None, verbose=0, warm_start=False)\n",
            "MAE: 6.411623667106906\n"
          ],
          "name": "stdout"
        }
      ]
    },
    {
      "cell_type": "code",
      "metadata": {
        "id": "zqOn2oedG5yc",
        "colab_type": "code",
        "outputId": "be23fae7-0f8a-4a86-bb02-184aa5205e91",
        "colab": {
          "base_uri": "https://localhost:8080/",
          "height": 34
        }
      },
      "source": [
        "# Test MAE\n",
        "train_and_test_model(X_train, y_train, X_test, y_test, best_model)"
      ],
      "execution_count": 0,
      "outputs": [
        {
          "output_type": "stream",
          "text": [
            "MAE:  6.444325005167186\n"
          ],
          "name": "stdout"
        }
      ]
    },
    {
      "cell_type": "code",
      "metadata": {
        "id": "1tTYolpXYBq8",
        "colab_type": "code",
        "outputId": "59af276f-acf0-4195-a37a-86f542fbefef",
        "colab": {
          "base_uri": "https://localhost:8080/",
          "height": 235
        }
      },
      "source": [
        "from sklearn.neural_network import MLPRegressor\n",
        "\n",
        "# Neural Network Regression\n",
        "\n",
        "hidden_layer_sizes = [(200, 100), (200, 100, 50), (400, 200, 100), (800, 400, 200)]\n",
        "alphas = [0.0001, 0.0005, 0.001, 0.005]\n",
        "lrs = [0.01, 0.05, 0.1]\n",
        "batches = [16, 32, 64]\n",
        "\n",
        "best_mae = sys.maxsize\n",
        "best_model = None\n",
        "for s in hidden_layer_sizes:\n",
        "  print('Optimising for: ' + str(s))\n",
        "  for a in alphas:\n",
        "    for l in lrs:\n",
        "      for b in batches:\n",
        "        model = MLPRegressor(hidden_layer_sizes=s, alpha=a, learning_rate_init = l, batch_size=b, max_iter=2000)\n",
        "        mae = train_model_cv(model, X_train, y_train) \n",
        "        if mae < best_mae:\n",
        "            best_mae = mae\n",
        "            best_model = model\n",
        "print(\"Model: \" + str(best_model))\n",
        "print(\"MAE: \" + str(best_mae))"
      ],
      "execution_count": 0,
      "outputs": [
        {
          "output_type": "stream",
          "text": [
            "Optimising for: (200, 100)\n",
            "Optimising for: (200, 100, 50)\n",
            "Optimising for: (400, 200, 100)\n",
            "Optimising for: (800, 400, 200)\n",
            "Model: MLPRegressor(activation='relu', alpha=0.001, batch_size=64, beta_1=0.9,\n",
            "             beta_2=0.999, early_stopping=False, epsilon=1e-08,\n",
            "             hidden_layer_sizes=(200, 100, 50), learning_rate='constant',\n",
            "             learning_rate_init=0.05, max_fun=15000, max_iter=2000,\n",
            "             momentum=0.9, n_iter_no_change=10, nesterovs_momentum=True,\n",
            "             power_t=0.5, random_state=None, shuffle=True, solver='adam',\n",
            "             tol=0.0001, validation_fraction=0.1, verbose=False,\n",
            "             warm_start=False)\n",
            "MAE: 7.103422940507802\n"
          ],
          "name": "stdout"
        }
      ]
    },
    {
      "cell_type": "code",
      "metadata": {
        "id": "_g2dsPfkKBYp",
        "colab_type": "code",
        "outputId": "d7e7b48a-b618-443e-cfe3-f9e6fb0ce478",
        "colab": {
          "base_uri": "https://localhost:8080/",
          "height": 34
        }
      },
      "source": [
        "# Test MAE\n",
        "train_and_test_model(X_train, y_train, X_test, y_test, best_model)"
      ],
      "execution_count": 0,
      "outputs": [
        {
          "output_type": "stream",
          "text": [
            "MAE:  7.197723238791618\n"
          ],
          "name": "stdout"
        }
      ]
    },
    {
      "cell_type": "markdown",
      "metadata": {
        "id": "pyBXil1VeAIP",
        "colab_type": "text"
      },
      "source": [
        "## Part B: PCA-based regression using grey matter maps\n",
        "\n",
        "The second approach will make use of grey matter maps that have been already extracted from the MRI scans and aligned to a common reference space to obtain spatially normalised maps. For this, we have used an advanced, state-of-the-art neuroimaging toolkit, called SPM12. The reference space corresponds to the commonly used MNI atlas as seen in the lecture on image segmentation.\n",
        "\n",
        "Because these grey matter maps are spatially normalised (ie., registered), voxel locations across images from different subjects roughly correspond to the same anatomical locations. This means that each voxel location in the grey matter maps can be treated as an individual feature. Because those maps are quite large at their full resolution there would be a very large number of features to deal with (more than 850,000). A dimensionality reduction may need to be performed before training a suitable regressor on the low-dimensional feature representation. We will use Principal Component Analysis (PCA) to do the dimensionality reduction. It might also be beneficial to apply some pre-processing (downsampling, smoothing, etc.) before running PCA, which should be explored. The implemented pipeline should be evaluated using two-fold cross-validation using the same data splits as in part A for the 500 subjects, so the two different approaches can be directly compared in terms average age prediction accuracy.\n",
        "\n",
        "*Note:* For part B, only the spatially normalised grey matter maps should be used."
      ]
    },
    {
      "cell_type": "code",
      "metadata": {
        "id": "QulK8Hf0J-Ve",
        "colab_type": "code",
        "colab": {}
      },
      "source": [
        ""
      ],
      "execution_count": 0,
      "outputs": []
    },
    {
      "cell_type": "markdown",
      "metadata": {
        "id": "li24Cp7NeAIR",
        "colab_type": "text"
      },
      "source": [
        "### TASK B-1: Pre-processing\n",
        "\n",
        "Before running PCA to reduce the dimensionality of the feature space for grey matter maps, it might be beneficial to run some pre-processing on the maps. In voxel-based analysis where each voxel location is a feature, it is common to apply some smoothing beforehand. This is to reduce noise and to compensate for errors of the spatial normalisation.\n",
        "\n",
        "Because the maps are quite large, it might also be worthwile to explore whether downsampling could be performed even before PCA. This would further reduce the dimensionality, and might be even needed in the case where PCA on the orignial resolution runs into memory issues. You may want to consider other ways of pre-processing and you can find insipiration in the notebook on medical image computing `02-Intro-Medical-Image-Computing.ipynb`.\n",
        "\n",
        "Implement a function that performs suitable pre-processing on each grey matter map.\n",
        "\n",
        "*Hint:* You may want to save the pre-processed maps using `sitk.WriteImage` to avoid recomputation each time you run the notebook."
      ]
    },
    {
      "cell_type": "code",
      "metadata": {
        "id": "EpaVMJjqeAIT",
        "colab_type": "code",
        "colab": {}
      },
      "source": [
        "########################################\n",
        "# ADD YOUR CODE HERE\n",
        "########################################"
      ],
      "execution_count": 0,
      "outputs": []
    },
    {
      "cell_type": "code",
      "metadata": {
        "id": "7XG9T3LkeAIY",
        "colab_type": "code",
        "colab": {}
      },
      "source": [
        "X = img_data\n",
        "y = meta_data_reg_train['age'].values.reshape(-1,1)\n",
        "\n",
        "print(img_size)\n",
        "print(X.shape)\n",
        "print(y.shape)"
      ],
      "execution_count": 0,
      "outputs": []
    },
    {
      "cell_type": "markdown",
      "metadata": {
        "id": "73FEceUHeAIn",
        "colab_type": "text"
      },
      "source": [
        "### TASK B-2: Dimensionality reduction\n",
        "\n",
        "Implement dimensionality reduction for grey matter maps using [scitkit-learn's PCA](http://scikit-learn.org/stable/modules/decomposition.html#pca). PCA has an option to set the percentage of variance to be preserved (by setting the parameter `n_components` to a value between 0 and 1). The number of principal modes, that is the new dimensionality of the data, is then automatically determined. Try initially to preserve 95% of the variance (`n_components=0.95`).\n",
        "\n",
        "*Note:* When dimensionality reduction is used as pre-processing step for supervised learning, as in this case, it is important that PCA is fitted to the training data only, but then applied to both the training and testing data. So make sure your implementation consists of two separate steps, 1) fitting the PCA model to $X_{\\text{train}}$ (using the `fit` function), and 2) applying dimensionality reduction to $X_{\\text{train}}$ and $X_{\\text{test}}$ using the `transform` function."
      ]
    },
    {
      "cell_type": "code",
      "metadata": {
        "id": "Efyb7NMFeAIq",
        "colab_type": "code",
        "colab": {}
      },
      "source": [
        "########################################\n",
        "# ADD YOUR CODE HERE\n",
        "########################################"
      ],
      "execution_count": 0,
      "outputs": []
    },
    {
      "cell_type": "markdown",
      "metadata": {
        "id": "bCTBbhMJeAIv",
        "colab_type": "text"
      },
      "source": [
        "### TASK B-3: Age regression and cross-validation\n",
        "\n",
        "Experiment with different regression methods from the [scikit-learn toolkit](http://scikit-learn.org/stable/supervised_learning.html#supervised-learning). Evaluate the methods using two-fold [cross-validation](http://scikit-learn.org/stable/modules/cross_validation.html#cross-validation) in the same way as for your approach in Part A so results can be directly compared. Generate the similar plots.\n",
        "\n",
        "Try using at least three different regression methods.\n",
        "\n",
        "*Hint:* Remember, when you use cross-validation where you swap training and testing sets in each fold, you need to fit PCA to the training set of each fold."
      ]
    },
    {
      "cell_type": "code",
      "metadata": {
        "id": "QVZ7DfOoeAIx",
        "colab_type": "code",
        "colab": {}
      },
      "source": [
        "########################################\n",
        "# ADD YOUR CODE HERE\n",
        "########################################"
      ],
      "execution_count": 0,
      "outputs": []
    },
    {
      "cell_type": "markdown",
      "metadata": {
        "id": "Der77Pd4eAI2",
        "colab_type": "text"
      },
      "source": [
        "Error calculation and plotting"
      ]
    },
    {
      "cell_type": "code",
      "metadata": {
        "id": "LAFnpEAXeAI4",
        "colab_type": "code",
        "colab": {}
      },
      "source": [
        "print('mean absolute error: {0}'.format(mean_absolute_error(y,predicted)))\n",
        "print('r2 score: {0}'.format(r2_score(y,predicted)))\n",
        "\n",
        "fig, ax = plt.subplots()\n",
        "ax.scatter(y, predicted, marker='.')\n",
        "ax.plot([y.min(), y.max()], [y.min(), y.max()], 'k--', lw=2)\n",
        "ax.set_xlabel('Real Age')\n",
        "ax.set_ylabel('Predicted Age')\n",
        "plt.show()"
      ],
      "execution_count": 0,
      "outputs": []
    },
    {
      "cell_type": "markdown",
      "metadata": {
        "id": "JmWROmfHeAI-",
        "colab_type": "text"
      },
      "source": [
        "## Part C: CNN-based regression using grey matter maps\n",
        "\n",
        "The third approach is similar in nature to the second approach in task B, but instead of using PCA for dimensionality reduction in order to use a more classical regression model, now we will use convolutional neural networks (CNNs) on the grey matter maps for predicting the subject's age directly.\n",
        "\n",
        "You will need to implement a CNN model that takes a grey matter map as an input and maps it to a one-dimensional, real-valued output. A good starting point may be a LeNet-type architecture and adapt the last layers to convert the classification into a regression network. You should have all the necessary ingredients now from above tasks and the notebooks from the lab tutorials for how to set up a CNN model in PyTorch, how to implement a suitable training and testing routine, and how to run a two-fold cross-validation on the 500 subjects similar to tasks A and B.\n",
        "\n",
        "*Note:* For part C, only the spatially normalised grey matter maps should be used. Similar to task A, you may want to set up a configuration for the CNN training that may also involve some resampling of the input data."
      ]
    },
    {
      "cell_type": "code",
      "metadata": {
        "id": "Ple9NFx3eAJD",
        "colab_type": "code",
        "colab": {}
      },
      "source": [
        "meta_data_reg_train = pd.read_csv(data_dir + 'meta/meta_data_reg_train.csv')\n",
        "age = np.array(meta_data_reg_train['age'])\n",
        "ids_reg_train = list(meta_data_reg_train['subject_id'])\n",
        "files_greymatter_train = [data_dir + 'greymatter/wc1sub-' + f + '_T1w.nii.gz' for f in ids_reg_train]"
      ],
      "execution_count": 0,
      "outputs": []
    },
    {
      "cell_type": "code",
      "metadata": {
        "id": "YgPtYxfFRJo8",
        "colab_type": "code",
        "colab": {}
      },
      "source": [
        "greymatters = list(map(lambda f: sitk.ReadImage(f), files_greymatter_train))"
      ],
      "execution_count": 0,
      "outputs": []
    },
    {
      "cell_type": "code",
      "metadata": {
        "id": "UgqRJN4tUIwH",
        "colab_type": "code",
        "colab": {}
      },
      "source": [
        "greymatters = np.array(list(map(lambda img: sitk.GetArrayFromImage(img), greymatters)))"
      ],
      "execution_count": 0,
      "outputs": []
    },
    {
      "cell_type": "code",
      "metadata": {
        "id": "8vbk1dbCHpYi",
        "colab_type": "code",
        "colab": {}
      },
      "source": [
        "class LeNet(nn.Module):\n",
        "    def __init__(self):\n",
        "      super(LeNet, self).__init__()\n",
        "      self.layer1 = nn.Sequential(\n",
        "          nn.Conv3d(1, 6, kernel_size=5, stride=1, padding=0),\n",
        "          nn.ReLU())\n",
        "      self.layer2 = nn.Sequential(\n",
        "          nn.Conv3d(6, 16, kernel_size=3, stride=1, padding=1),\n",
        "          nn.ReLU()) \n",
        "      self.layer3 = nn.Sequential(\n",
        "          nn.Conv3d(16, 120, kernel_size=3, stride=1, padding=1),\n",
        "          nn.ReLU())           \n",
        "      self.layer4 = nn.Sequential(    \n",
        "          nn.Conv3d(120, 84, kernel_size=1, stride=1),\n",
        "          nn.ReLU())\n",
        "      self.layer5 = nn.Conv3d(84, 1, kernel_size=1)\n",
        "      self.layer6 = nn.Linear(769184, 1)\n",
        "\n",
        "    def forward(self, x):\n",
        "        out = self.layer1(x)\n",
        "        out = self.layer2(out)\n",
        "        out = self.layer3(out)\n",
        "        out = self.layer4(out)\n",
        "        out = self.layer5(out)\n",
        "        out = out.view(out.size(0), -1)\n",
        "        out = self.layer6(out)\n",
        "        return out"
      ],
      "execution_count": 0,
      "outputs": []
    },
    {
      "cell_type": "code",
      "metadata": {
        "id": "oMU3-SMPn3qE",
        "colab_type": "code",
        "colab": {}
      },
      "source": [
        "def eval_greymatter(X, y, m): \n",
        "  X_net_test = torch.from_numpy(X)\n",
        "  y_net_test = torch.from_numpy(y)\n",
        "\n",
        "  # Load data into DataLoader\n",
        "  test = torch.utils.data.TensorDataset(X_net_test, y_net_test)\n",
        "  test_loader = torch.utils.data.DataLoader(test, batch_size=len(X_net_test))\n",
        "  \n",
        "  m.eval()\n",
        "\n",
        "  with torch.no_grad():\n",
        "\n",
        "    # Will only run once\n",
        "    for (samples, labels) in test_loader:\n",
        "\n",
        "      samples = samples.view(samples.shape[0], 1, 90, 108, 90) \n",
        "      outputs = m(samples)\n",
        "\n",
        "      return mean_absolute_error(outputs, labels)"
      ],
      "execution_count": 0,
      "outputs": []
    },
    {
      "cell_type": "code",
      "metadata": {
        "id": "ll-KpRxPOvDK",
        "colab_type": "code",
        "colab": {}
      },
      "source": [
        "from sklearn.model_selection import KFold\n",
        "import copy\n",
        "\n",
        "#TODO: Upsampling\n",
        "\n",
        "def train_greymatter(model, batch_size, learning_rate, num_epochs, X_train, y_train):\n",
        "\n",
        "  kf = KFold(n_splits=2, shuffle=True)\n",
        "  splits = kf.split(X_train)\n",
        "  mae = 0\n",
        "  criterion = nn.L1Loss().to(device)\n",
        "\n",
        "  for i, (train_i, val_i) in enumerate(splits):\n",
        "    X_tr = X_train[train_i]\n",
        "    X_val = X_train[val_i]\n",
        "\n",
        "    y_tr = y_train[train_i]\n",
        "    y_val = y_train[val_i]\n",
        "              \n",
        "    model = copy.deepcopy(model)\n",
        "    # Set model to train, load in data\n",
        "    model.train()\n",
        "\n",
        "    X_tr = torch.from_numpy(X_tr)\n",
        "    y_tr = torch.from_numpy(y_tr)\n",
        "\n",
        "    train_set = torch.utils.data.TensorDataset(X_tr, y_tr)\n",
        "    train_loader = torch.utils.data.DataLoader(train_set, batch_size=batch_size, shuffle=True)\n",
        "\n",
        "    optimizer = torch.optim.Adam(model.parameters(), lr=learning_rate)\n",
        "    loss_train_log = []\n",
        "    loss_val_log = []\n",
        "    epoch_val_log = []\n",
        "\n",
        "    print('START TRAINING...')\n",
        "    for epoch in range(1, num_epochs + 1):\n",
        "\n",
        "    # Training\n",
        "      for i, (images, labels) in enumerate(train_loader):\n",
        "\n",
        "          # Need to reshape as a 3D matrix in order to apply convolutions and subsampling\n",
        "          images = images.view(images.shape[0], 1, 90, 108, 90).to(device)\n",
        "\n",
        "          # Run the forward pass\n",
        "          outputs = model(images).reshape(-1)\n",
        "          \n",
        "          loss = criterion(outputs, labels)\n",
        "          \n",
        "\n",
        "          # Backprop \n",
        "          optimiser.zero_grad()\n",
        "          loss.backward()\n",
        "          optimiser.step()\n",
        "\n",
        "      loss_train_log.append(loss.item())\n",
        "\n",
        "      print('+ TRAINING \\tEpoch: {} \\tLoss: {:.6f}'.format(epoch, loss.item()))\n",
        "    \n",
        "  eval_greymatter(X_val, y_val, model)\n",
        "\n",
        "\n",
        "\n"
      ],
      "execution_count": 0,
      "outputs": []
    },
    {
      "cell_type": "code",
      "metadata": {
        "id": "0hvAuSCfn13o",
        "colab_type": "code",
        "outputId": "84cdd012-3574-4b13-82cd-4fb20aa1694a",
        "colab": {
          "base_uri": "https://localhost:8080/",
          "height": 340
        }
      },
      "source": [
        "train_greymatter(LeNet().to(device), 64, 0.01, 10, greymatters[:2], age[:2])"
      ],
      "execution_count": 0,
      "outputs": [
        {
          "output_type": "stream",
          "text": [
            "START TRAINING...\n"
          ],
          "name": "stdout"
        },
        {
          "output_type": "error",
          "ename": "RuntimeError",
          "evalue": "ignored",
          "traceback": [
            "\u001b[0;31m---------------------------------------------------------------------------\u001b[0m",
            "\u001b[0;31mRuntimeError\u001b[0m                              Traceback (most recent call last)",
            "\u001b[0;32m<ipython-input-84-3c1490efa58a>\u001b[0m in \u001b[0;36m<module>\u001b[0;34m()\u001b[0m\n\u001b[0;32m----> 1\u001b[0;31m \u001b[0mtrain_greymatter\u001b[0m\u001b[0;34m(\u001b[0m\u001b[0mLeNet\u001b[0m\u001b[0;34m(\u001b[0m\u001b[0;34m)\u001b[0m\u001b[0;34m.\u001b[0m\u001b[0mto\u001b[0m\u001b[0;34m(\u001b[0m\u001b[0mdevice\u001b[0m\u001b[0;34m)\u001b[0m\u001b[0;34m,\u001b[0m \u001b[0;36m64\u001b[0m\u001b[0;34m,\u001b[0m \u001b[0;36m0.01\u001b[0m\u001b[0;34m,\u001b[0m \u001b[0;36m10\u001b[0m\u001b[0;34m,\u001b[0m \u001b[0mgreymatters\u001b[0m\u001b[0;34m[\u001b[0m\u001b[0;34m:\u001b[0m\u001b[0;36m2\u001b[0m\u001b[0;34m]\u001b[0m\u001b[0;34m,\u001b[0m \u001b[0mage\u001b[0m\u001b[0;34m[\u001b[0m\u001b[0;34m:\u001b[0m\u001b[0;36m2\u001b[0m\u001b[0;34m]\u001b[0m\u001b[0;34m)\u001b[0m\u001b[0;34m\u001b[0m\u001b[0;34m\u001b[0m\u001b[0m\n\u001b[0m",
            "\u001b[0;32m<ipython-input-83-2052c567afdd>\u001b[0m in \u001b[0;36mtrain_greymatter\u001b[0;34m(model, batch_size, learning_rate, num_epochs, X_train, y_train)\u001b[0m\n\u001b[1;32m     43\u001b[0m \u001b[0;34m\u001b[0m\u001b[0m\n\u001b[1;32m     44\u001b[0m           \u001b[0;31m# Run the forward pass\u001b[0m\u001b[0;34m\u001b[0m\u001b[0;34m\u001b[0m\u001b[0;34m\u001b[0m\u001b[0m\n\u001b[0;32m---> 45\u001b[0;31m           \u001b[0moutputs\u001b[0m \u001b[0;34m=\u001b[0m \u001b[0mmodel\u001b[0m\u001b[0;34m(\u001b[0m\u001b[0mimages\u001b[0m\u001b[0;34m)\u001b[0m\u001b[0;34m.\u001b[0m\u001b[0mreshape\u001b[0m\u001b[0;34m(\u001b[0m\u001b[0;34m-\u001b[0m\u001b[0;36m1\u001b[0m\u001b[0;34m)\u001b[0m\u001b[0;34m\u001b[0m\u001b[0;34m\u001b[0m\u001b[0m\n\u001b[0m\u001b[1;32m     46\u001b[0m \u001b[0;34m\u001b[0m\u001b[0m\n\u001b[1;32m     47\u001b[0m           \u001b[0mloss\u001b[0m \u001b[0;34m=\u001b[0m \u001b[0mcriterion\u001b[0m\u001b[0;34m(\u001b[0m\u001b[0moutputs\u001b[0m\u001b[0;34m,\u001b[0m \u001b[0mlabels\u001b[0m\u001b[0;34m)\u001b[0m\u001b[0;34m\u001b[0m\u001b[0;34m\u001b[0m\u001b[0m\n",
            "\u001b[0;32m/usr/local/lib/python3.6/dist-packages/torch/nn/modules/module.py\u001b[0m in \u001b[0;36m__call__\u001b[0;34m(self, *input, **kwargs)\u001b[0m\n\u001b[1;32m    530\u001b[0m             \u001b[0mresult\u001b[0m \u001b[0;34m=\u001b[0m \u001b[0mself\u001b[0m\u001b[0;34m.\u001b[0m\u001b[0m_slow_forward\u001b[0m\u001b[0;34m(\u001b[0m\u001b[0;34m*\u001b[0m\u001b[0minput\u001b[0m\u001b[0;34m,\u001b[0m \u001b[0;34m**\u001b[0m\u001b[0mkwargs\u001b[0m\u001b[0;34m)\u001b[0m\u001b[0;34m\u001b[0m\u001b[0;34m\u001b[0m\u001b[0m\n\u001b[1;32m    531\u001b[0m         \u001b[0;32melse\u001b[0m\u001b[0;34m:\u001b[0m\u001b[0;34m\u001b[0m\u001b[0;34m\u001b[0m\u001b[0m\n\u001b[0;32m--> 532\u001b[0;31m             \u001b[0mresult\u001b[0m \u001b[0;34m=\u001b[0m \u001b[0mself\u001b[0m\u001b[0;34m.\u001b[0m\u001b[0mforward\u001b[0m\u001b[0;34m(\u001b[0m\u001b[0;34m*\u001b[0m\u001b[0minput\u001b[0m\u001b[0;34m,\u001b[0m \u001b[0;34m**\u001b[0m\u001b[0mkwargs\u001b[0m\u001b[0;34m)\u001b[0m\u001b[0;34m\u001b[0m\u001b[0;34m\u001b[0m\u001b[0m\n\u001b[0m\u001b[1;32m    533\u001b[0m         \u001b[0;32mfor\u001b[0m \u001b[0mhook\u001b[0m \u001b[0;32min\u001b[0m \u001b[0mself\u001b[0m\u001b[0;34m.\u001b[0m\u001b[0m_forward_hooks\u001b[0m\u001b[0;34m.\u001b[0m\u001b[0mvalues\u001b[0m\u001b[0;34m(\u001b[0m\u001b[0;34m)\u001b[0m\u001b[0;34m:\u001b[0m\u001b[0;34m\u001b[0m\u001b[0;34m\u001b[0m\u001b[0m\n\u001b[1;32m    534\u001b[0m             \u001b[0mhook_result\u001b[0m \u001b[0;34m=\u001b[0m \u001b[0mhook\u001b[0m\u001b[0;34m(\u001b[0m\u001b[0mself\u001b[0m\u001b[0;34m,\u001b[0m \u001b[0minput\u001b[0m\u001b[0;34m,\u001b[0m \u001b[0mresult\u001b[0m\u001b[0;34m)\u001b[0m\u001b[0;34m\u001b[0m\u001b[0;34m\u001b[0m\u001b[0m\n",
            "\u001b[0;32m<ipython-input-44-17e101e4e05b>\u001b[0m in \u001b[0;36mforward\u001b[0;34m(self, x)\u001b[0m\n\u001b[1;32m     20\u001b[0m         \u001b[0mout\u001b[0m \u001b[0;34m=\u001b[0m \u001b[0mself\u001b[0m\u001b[0;34m.\u001b[0m\u001b[0mlayer1\u001b[0m\u001b[0;34m(\u001b[0m\u001b[0mx\u001b[0m\u001b[0;34m)\u001b[0m\u001b[0;34m\u001b[0m\u001b[0;34m\u001b[0m\u001b[0m\n\u001b[1;32m     21\u001b[0m         \u001b[0mout\u001b[0m \u001b[0;34m=\u001b[0m \u001b[0mself\u001b[0m\u001b[0;34m.\u001b[0m\u001b[0mlayer2\u001b[0m\u001b[0;34m(\u001b[0m\u001b[0mout\u001b[0m\u001b[0;34m)\u001b[0m\u001b[0;34m\u001b[0m\u001b[0;34m\u001b[0m\u001b[0m\n\u001b[0;32m---> 22\u001b[0;31m         \u001b[0mout\u001b[0m \u001b[0;34m=\u001b[0m \u001b[0mself\u001b[0m\u001b[0;34m.\u001b[0m\u001b[0mlayer3\u001b[0m\u001b[0;34m(\u001b[0m\u001b[0mout\u001b[0m\u001b[0;34m)\u001b[0m\u001b[0;34m\u001b[0m\u001b[0;34m\u001b[0m\u001b[0m\n\u001b[0m\u001b[1;32m     23\u001b[0m         \u001b[0mout\u001b[0m \u001b[0;34m=\u001b[0m \u001b[0mself\u001b[0m\u001b[0;34m.\u001b[0m\u001b[0mlayer4\u001b[0m\u001b[0;34m(\u001b[0m\u001b[0mout\u001b[0m\u001b[0;34m)\u001b[0m\u001b[0;34m\u001b[0m\u001b[0;34m\u001b[0m\u001b[0m\n\u001b[1;32m     24\u001b[0m         \u001b[0mout\u001b[0m \u001b[0;34m=\u001b[0m \u001b[0mself\u001b[0m\u001b[0;34m.\u001b[0m\u001b[0mlayer5\u001b[0m\u001b[0;34m(\u001b[0m\u001b[0mout\u001b[0m\u001b[0;34m)\u001b[0m\u001b[0;34m\u001b[0m\u001b[0;34m\u001b[0m\u001b[0m\n",
            "\u001b[0;32m/usr/local/lib/python3.6/dist-packages/torch/nn/modules/module.py\u001b[0m in \u001b[0;36m__call__\u001b[0;34m(self, *input, **kwargs)\u001b[0m\n\u001b[1;32m    530\u001b[0m             \u001b[0mresult\u001b[0m \u001b[0;34m=\u001b[0m \u001b[0mself\u001b[0m\u001b[0;34m.\u001b[0m\u001b[0m_slow_forward\u001b[0m\u001b[0;34m(\u001b[0m\u001b[0;34m*\u001b[0m\u001b[0minput\u001b[0m\u001b[0;34m,\u001b[0m \u001b[0;34m**\u001b[0m\u001b[0mkwargs\u001b[0m\u001b[0;34m)\u001b[0m\u001b[0;34m\u001b[0m\u001b[0;34m\u001b[0m\u001b[0m\n\u001b[1;32m    531\u001b[0m         \u001b[0;32melse\u001b[0m\u001b[0;34m:\u001b[0m\u001b[0;34m\u001b[0m\u001b[0;34m\u001b[0m\u001b[0m\n\u001b[0;32m--> 532\u001b[0;31m             \u001b[0mresult\u001b[0m \u001b[0;34m=\u001b[0m \u001b[0mself\u001b[0m\u001b[0;34m.\u001b[0m\u001b[0mforward\u001b[0m\u001b[0;34m(\u001b[0m\u001b[0;34m*\u001b[0m\u001b[0minput\u001b[0m\u001b[0;34m,\u001b[0m \u001b[0;34m**\u001b[0m\u001b[0mkwargs\u001b[0m\u001b[0;34m)\u001b[0m\u001b[0;34m\u001b[0m\u001b[0;34m\u001b[0m\u001b[0m\n\u001b[0m\u001b[1;32m    533\u001b[0m         \u001b[0;32mfor\u001b[0m \u001b[0mhook\u001b[0m \u001b[0;32min\u001b[0m \u001b[0mself\u001b[0m\u001b[0;34m.\u001b[0m\u001b[0m_forward_hooks\u001b[0m\u001b[0;34m.\u001b[0m\u001b[0mvalues\u001b[0m\u001b[0;34m(\u001b[0m\u001b[0;34m)\u001b[0m\u001b[0;34m:\u001b[0m\u001b[0;34m\u001b[0m\u001b[0;34m\u001b[0m\u001b[0m\n\u001b[1;32m    534\u001b[0m             \u001b[0mhook_result\u001b[0m \u001b[0;34m=\u001b[0m \u001b[0mhook\u001b[0m\u001b[0;34m(\u001b[0m\u001b[0mself\u001b[0m\u001b[0;34m,\u001b[0m \u001b[0minput\u001b[0m\u001b[0;34m,\u001b[0m \u001b[0mresult\u001b[0m\u001b[0;34m)\u001b[0m\u001b[0;34m\u001b[0m\u001b[0;34m\u001b[0m\u001b[0m\n",
            "\u001b[0;32m/usr/local/lib/python3.6/dist-packages/torch/nn/modules/container.py\u001b[0m in \u001b[0;36mforward\u001b[0;34m(self, input)\u001b[0m\n\u001b[1;32m     98\u001b[0m     \u001b[0;32mdef\u001b[0m \u001b[0mforward\u001b[0m\u001b[0;34m(\u001b[0m\u001b[0mself\u001b[0m\u001b[0;34m,\u001b[0m \u001b[0minput\u001b[0m\u001b[0;34m)\u001b[0m\u001b[0;34m:\u001b[0m\u001b[0;34m\u001b[0m\u001b[0;34m\u001b[0m\u001b[0m\n\u001b[1;32m     99\u001b[0m         \u001b[0;32mfor\u001b[0m \u001b[0mmodule\u001b[0m \u001b[0;32min\u001b[0m \u001b[0mself\u001b[0m\u001b[0;34m:\u001b[0m\u001b[0;34m\u001b[0m\u001b[0;34m\u001b[0m\u001b[0m\n\u001b[0;32m--> 100\u001b[0;31m             \u001b[0minput\u001b[0m \u001b[0;34m=\u001b[0m \u001b[0mmodule\u001b[0m\u001b[0;34m(\u001b[0m\u001b[0minput\u001b[0m\u001b[0;34m)\u001b[0m\u001b[0;34m\u001b[0m\u001b[0;34m\u001b[0m\u001b[0m\n\u001b[0m\u001b[1;32m    101\u001b[0m         \u001b[0;32mreturn\u001b[0m \u001b[0minput\u001b[0m\u001b[0;34m\u001b[0m\u001b[0;34m\u001b[0m\u001b[0m\n\u001b[1;32m    102\u001b[0m \u001b[0;34m\u001b[0m\u001b[0m\n",
            "\u001b[0;32m/usr/local/lib/python3.6/dist-packages/torch/nn/modules/module.py\u001b[0m in \u001b[0;36m__call__\u001b[0;34m(self, *input, **kwargs)\u001b[0m\n\u001b[1;32m    530\u001b[0m             \u001b[0mresult\u001b[0m \u001b[0;34m=\u001b[0m \u001b[0mself\u001b[0m\u001b[0;34m.\u001b[0m\u001b[0m_slow_forward\u001b[0m\u001b[0;34m(\u001b[0m\u001b[0;34m*\u001b[0m\u001b[0minput\u001b[0m\u001b[0;34m,\u001b[0m \u001b[0;34m**\u001b[0m\u001b[0mkwargs\u001b[0m\u001b[0;34m)\u001b[0m\u001b[0;34m\u001b[0m\u001b[0;34m\u001b[0m\u001b[0m\n\u001b[1;32m    531\u001b[0m         \u001b[0;32melse\u001b[0m\u001b[0;34m:\u001b[0m\u001b[0;34m\u001b[0m\u001b[0;34m\u001b[0m\u001b[0m\n\u001b[0;32m--> 532\u001b[0;31m             \u001b[0mresult\u001b[0m \u001b[0;34m=\u001b[0m \u001b[0mself\u001b[0m\u001b[0;34m.\u001b[0m\u001b[0mforward\u001b[0m\u001b[0;34m(\u001b[0m\u001b[0;34m*\u001b[0m\u001b[0minput\u001b[0m\u001b[0;34m,\u001b[0m \u001b[0;34m**\u001b[0m\u001b[0mkwargs\u001b[0m\u001b[0;34m)\u001b[0m\u001b[0;34m\u001b[0m\u001b[0;34m\u001b[0m\u001b[0m\n\u001b[0m\u001b[1;32m    533\u001b[0m         \u001b[0;32mfor\u001b[0m \u001b[0mhook\u001b[0m \u001b[0;32min\u001b[0m \u001b[0mself\u001b[0m\u001b[0;34m.\u001b[0m\u001b[0m_forward_hooks\u001b[0m\u001b[0;34m.\u001b[0m\u001b[0mvalues\u001b[0m\u001b[0;34m(\u001b[0m\u001b[0;34m)\u001b[0m\u001b[0;34m:\u001b[0m\u001b[0;34m\u001b[0m\u001b[0;34m\u001b[0m\u001b[0m\n\u001b[1;32m    534\u001b[0m             \u001b[0mhook_result\u001b[0m \u001b[0;34m=\u001b[0m \u001b[0mhook\u001b[0m\u001b[0;34m(\u001b[0m\u001b[0mself\u001b[0m\u001b[0;34m,\u001b[0m \u001b[0minput\u001b[0m\u001b[0;34m,\u001b[0m \u001b[0mresult\u001b[0m\u001b[0;34m)\u001b[0m\u001b[0;34m\u001b[0m\u001b[0;34m\u001b[0m\u001b[0m\n",
            "\u001b[0;32m/usr/local/lib/python3.6/dist-packages/torch/nn/modules/conv.py\u001b[0m in \u001b[0;36mforward\u001b[0;34m(self, input)\u001b[0m\n\u001b[1;32m    478\u001b[0m                             self.dilation, self.groups)\n\u001b[1;32m    479\u001b[0m         return F.conv3d(input, self.weight, self.bias, self.stride,\n\u001b[0;32m--> 480\u001b[0;31m                         self.padding, self.dilation, self.groups)\n\u001b[0m\u001b[1;32m    481\u001b[0m \u001b[0;34m\u001b[0m\u001b[0m\n\u001b[1;32m    482\u001b[0m \u001b[0;34m\u001b[0m\u001b[0m\n",
            "\u001b[0;31mRuntimeError\u001b[0m: CUDA out of memory. Tried to allocate 354.00 MiB (GPU 0; 14.73 GiB total capacity; 13.67 GiB already allocated; 173.88 MiB free; 13.77 GiB reserved in total by PyTorch)"
          ]
        }
      ]
    },
    {
      "cell_type": "markdown",
      "metadata": {
        "id": "lempioi9eAJP",
        "colab_type": "text"
      },
      "source": [
        "Error calculation and plotting"
      ]
    },
    {
      "cell_type": "code",
      "metadata": {
        "id": "1xFSgUUAeAJU",
        "colab_type": "code",
        "colab": {}
      },
      "source": [
        "print('mean absolute error: {0}'.format(mean_absolute_error(y,predicted)))\n",
        "print('r2 score: {0}'.format(r2_score(y,predicted)))\n",
        "\n",
        "fig, ax = plt.subplots()\n",
        "ax.scatter(y, predicted, marker='.')\n",
        "ax.plot([y.min(), y.max()], [y.min(), y.max()], 'k--', lw=2)\n",
        "ax.set_xlabel('Real Age')\n",
        "ax.set_ylabel('Predicted Age')\n",
        "plt.show()"
      ],
      "execution_count": 0,
      "outputs": []
    }
  ]
}